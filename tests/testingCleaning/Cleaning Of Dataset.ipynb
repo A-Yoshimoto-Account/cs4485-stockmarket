{
 "cells": [
  {
   "cell_type": "code",
   "execution_count": 21,
   "metadata": {},
   "outputs": [],
   "source": [
    "import pandas as pd\n",
    "import numpy as np\n",
    "import string\n",
    "import re\n",
    "import tiktoken\n",
    "embedding_encoding = \"cl100k_base\"\n",
    "max_tokens = 8000\n",
    "file_name = 'context_03-31-2023.csv'\n",
    "collected_data = pd.read_csv(file_name)"
   ]
  },
  {
   "cell_type": "code",
   "execution_count": 22,
   "metadata": {},
   "outputs": [
    {
     "ename": "ValueError",
     "evalue": "The truth value of a Int64Index is ambiguous. Use a.empty, a.bool(), a.item(), a.any() or a.all().",
     "output_type": "error",
     "traceback": [
      "\u001b[1;31m---------------------------------------------------------------------------\u001b[0m",
      "\u001b[1;31mValueError\u001b[0m                                Traceback (most recent call last)",
      "\u001b[1;32m~\\AppData\\Local\\Temp\\ipykernel_3080\\2782243125.py\u001b[0m in \u001b[0;36m<module>\u001b[1;34m\u001b[0m\n\u001b[0;32m      1\u001b[0m \u001b[1;31m#collected_data.drop(collected_data[collected_data['Content'].str.contains('Nvidia')])\u001b[0m\u001b[1;33m\u001b[0m\u001b[1;33m\u001b[0m\u001b[0m\n\u001b[1;32m----> 2\u001b[1;33m \u001b[0mcollected_data\u001b[0m\u001b[1;33m.\u001b[0m\u001b[0mdrop\u001b[0m\u001b[1;33m(\u001b[0m\u001b[1;32mnot\u001b[0m \u001b[0mcollected_data\u001b[0m\u001b[1;33m[\u001b[0m\u001b[1;33m(\u001b[0m\u001b[0mcollected_data\u001b[0m\u001b[1;33m[\u001b[0m\u001b[1;34m'Content'\u001b[0m\u001b[1;33m]\u001b[0m\u001b[1;33m.\u001b[0m\u001b[0mstr\u001b[0m\u001b[1;33m.\u001b[0m\u001b[0mcontains\u001b[0m\u001b[1;33m(\u001b[0m\u001b[1;34m'Nvidia'\u001b[0m\u001b[1;33m)\u001b[0m\u001b[1;33m)\u001b[0m\u001b[1;33m]\u001b[0m\u001b[1;33m.\u001b[0m\u001b[0mindex\u001b[0m\u001b[1;33m,\u001b[0m \u001b[0minplace\u001b[0m\u001b[1;33m=\u001b[0m\u001b[1;32mTrue\u001b[0m\u001b[1;33m)\u001b[0m\u001b[1;33m\u001b[0m\u001b[1;33m\u001b[0m\u001b[0m\n\u001b[0m\u001b[0;32m      3\u001b[0m \u001b[0mprint\u001b[0m\u001b[1;33m(\u001b[0m\u001b[0mcollected_data\u001b[0m\u001b[1;33m)\u001b[0m\u001b[1;33m\u001b[0m\u001b[1;33m\u001b[0m\u001b[0m\n\u001b[0;32m      4\u001b[0m \u001b[1;33m\u001b[0m\u001b[0m\n",
      "\u001b[1;32mc:\\Home_of_Anaconda\\lib\\site-packages\\pandas\\core\\indexes\\base.py\u001b[0m in \u001b[0;36m__nonzero__\u001b[1;34m(self)\u001b[0m\n\u001b[0;32m   3186\u001b[0m     \u001b[1;33m@\u001b[0m\u001b[0mfinal\u001b[0m\u001b[1;33m\u001b[0m\u001b[1;33m\u001b[0m\u001b[0m\n\u001b[0;32m   3187\u001b[0m     \u001b[1;32mdef\u001b[0m \u001b[0m__nonzero__\u001b[0m\u001b[1;33m(\u001b[0m\u001b[0mself\u001b[0m\u001b[1;33m)\u001b[0m \u001b[1;33m->\u001b[0m \u001b[0mNoReturn\u001b[0m\u001b[1;33m:\u001b[0m\u001b[1;33m\u001b[0m\u001b[1;33m\u001b[0m\u001b[0m\n\u001b[1;32m-> 3188\u001b[1;33m         raise ValueError(\n\u001b[0m\u001b[0;32m   3189\u001b[0m             \u001b[1;34mf\"The truth value of a {type(self).__name__} is ambiguous. \"\u001b[0m\u001b[1;33m\u001b[0m\u001b[1;33m\u001b[0m\u001b[0m\n\u001b[0;32m   3190\u001b[0m             \u001b[1;34m\"Use a.empty, a.bool(), a.item(), a.any() or a.all().\"\u001b[0m\u001b[1;33m\u001b[0m\u001b[1;33m\u001b[0m\u001b[0m\n",
      "\u001b[1;31mValueError\u001b[0m: The truth value of a Int64Index is ambiguous. Use a.empty, a.bool(), a.item(), a.any() or a.all()."
     ]
    }
   ],
   "source": [
    "#collected_data.drop(collected_data[collected_data['Content'].str.contains('Nvidia')])\n",
    "collected_data.drop(collected_data[(collected_data['Content'].str.contains('Nvidia') == False)].index, inplace=True)\n",
    "print(collected_data)\n",
    "\n"
   ]
  },
  {
   "cell_type": "code",
   "execution_count": 82,
   "metadata": {},
   "outputs": [],
   "source": [
    "\n",
    "#removes double lines and single new lines\n",
    "collected_data[\"Content\"] = collected_data[\"Content\"].replace(to_replace = r'\\n\\n', value = '', regex=True)\n",
    "collected_data[\"Content\"] = collected_data[\"Content\"].replace(to_replace = r'\\n', value = '', regex=True)\n",
    "#removes escape charaters\n",
    "collected_data[\"Content\"] = collected_data[\"Content\"].replace(to_replace = r'\\'', value = '', regex=True)\n",
    "\n",
    "#removes any URL\n",
    "collected_data[\"Content\"] = collected_data[\"Content\"].replace(to_replace = r\"https?://\\S+|www.\\.\\S+\", value = '', regex=True)\n",
    "\n",
    "#removes any html\n",
    "collected_data[\"Content\"] = collected_data[\"Content\"].replace(to_replace = r\"<.*?>\", value = '', regex=True)\n",
    "\n",
    "#removes any emojis\n",
    "collected_data[\"Content\"] = collected_data[\"Content\"].replace(to_replace = \"[\"u\"\\U0001F600-\\U0001F64F\"\n",
    "                                                                              u\"\\U0001F300-\\U0001F5FF\"\n",
    "                                                                              u\"\\U0001F680-\\U0001F6FF\"\n",
    "                                                                              u\"\\U0001F1E0-\\U0001F1FF\"\n",
    "                                                                              u\"\\U00002702-\\U000027B0\"\n",
    "                                                                              u\"\\U000024C2-\\U0001F251\"\n",
    "                                                                              \"]+\", value = '', regex=True)\n",
    "\n",
    "\n"
   ]
  },
  {
   "cell_type": "code",
   "execution_count": 83,
   "metadata": {},
   "outputs": [],
   "source": [
    "collected_data[\"Combined\"] = (\n",
    "    \"Title: \" + collected_data.Title.str.strip() + \"; Date: \" + collected_data.Date.str.strip()\n",
    "    + \"; Content: \" + collected_data.Content.str.strip()\n",
    ")\n",
    "encoding = tiktoken.get_encoding(embedding_encoding)\n",
    "\n",
    "collected_data[\"n_tokens\"] = collected_data.Combined.apply(lambda x: len(encoding.encode(x)))\n",
    "collected_data = collected_data[collected_data.n_tokens <= max_tokens]\n",
    "\n",
    "\n"
   ]
  },
  {
   "cell_type": "code",
   "execution_count": 89,
   "metadata": {},
   "outputs": [
    {
     "data": {
      "text/plain": [
       "URL         https://www.fool.com/investing/2023/03/20/is-t...\n",
       "Title                 Is the AI Hype Making Nvidia Too Risky?\n",
       "Date                                               2023-03-20\n",
       "Content     Nvidia (NVDA 1.44%) is one of the main winners...\n",
       "Combined    Title: Is the AI Hype Making Nvidia Too Risky?...\n",
       "n_tokens                                                  115\n",
       "Name: 15, dtype: object"
      ]
     },
     "execution_count": 89,
     "metadata": {},
     "output_type": "execute_result"
    }
   ],
   "source": [
    "collected_data.loc[collected_data['n_tokens'].idxmin()]\n"
   ]
  },
  {
   "cell_type": "code",
   "execution_count": 102,
   "metadata": {},
   "outputs": [],
   "source": [
    "from collections import Counter\n",
    "\n",
    "#Count unique words\n",
    "def counter_word(text):\n",
    "    count = Counter()\n",
    "    for i in text.values:\n",
    "        for word in i.split():\n",
    "            count[word] -= 1\n",
    "    return count"
   ]
  },
  {
   "cell_type": "code",
   "execution_count": 103,
   "metadata": {},
   "outputs": [],
   "source": [
    "text = collected_data[\"Content\"]\n",
    "counter = counter_word(text)"
   ]
  },
  {
   "cell_type": "code",
   "execution_count": 60,
   "metadata": {},
   "outputs": [
    {
     "data": {
      "text/plain": [
       "934"
      ]
     },
     "execution_count": 60,
     "metadata": {},
     "output_type": "execute_result"
    }
   ],
   "source": [
    "len(counter)"
   ]
  },
  {
   "cell_type": "code",
   "execution_count": 106,
   "metadata": {},
   "outputs": [
    {
     "data": {
      "text/plain": [
       "[('But,', -1),\n",
       " ('topping', -1),\n",
       " ('serving', -1),\n",
       " ('glass', -1),\n",
       " ('half-full', -1),\n",
       " ('half-empty.', -1),\n",
       " ('reversing', -1),\n",
       " ('mid-February', -1),\n",
       " ('peak.', -1),\n",
       " ('breakdown', -1),\n",
       " ('thousand', -1),\n",
       " ('words.', -1),\n",
       " ('Take', -1),\n",
       " ('look:', -1),\n",
       " ('bumping', -1),\n",
       " ('Only', -1),\n",
       " ('Fiscal', -1),\n",
       " (\"cards'\", -1),\n",
       " (\"quarters'\", -1),\n",
       " ('matter.', -1),\n",
       " ('permanent', -1),\n",
       " ('condition.', -1),\n",
       " ('lesser-read', -1),\n",
       " ('notes', -1),\n",
       " (\"Kress'\", -1),\n",
       " ('explain,', -1),\n",
       " ('\"The', -1),\n",
       " ('year-on-year', -1),\n",
       " ('decreases', -1),\n",
       " ('reflect', -1),\n",
       " ('sell-in', -1),\n",
       " ('macro-economic', -1),\n",
       " ('demand.\"', -1),\n",
       " ('\"we', -1),\n",
       " ('[China].\"', -1),\n",
       " ('She', -1),\n",
       " ('laptops', -1),\n",
       " ('shelves\"', -1),\n",
       " ('\"delivering', -1),\n",
       " ('largest-ever', -1),\n",
       " ('leap', -1),\n",
       " ('efficiency.\"', -1),\n",
       " ('AI-focused', -1),\n",
       " ('resisting', -1),\n",
       " ('norm.', -1),\n",
       " ('her', -1),\n",
       " ('agree.', -1),\n",
       " ('26.5%', -1),\n",
       " ('Eos', -1),\n",
       " ('fastest', -1)]"
      ]
     },
     "execution_count": 106,
     "metadata": {},
     "output_type": "execute_result"
    }
   ],
   "source": [
    "counter.most_common(50)"
   ]
  },
  {
   "cell_type": "code",
   "execution_count": 49,
   "metadata": {},
   "outputs": [],
   "source": [
    "collected_data.to_csv(file_name)"
   ]
  }
 ],
 "metadata": {
  "kernelspec": {
   "display_name": "base",
   "language": "python",
   "name": "python3"
  },
  "language_info": {
   "codemirror_mode": {
    "name": "ipython",
    "version": 3
   },
   "file_extension": ".py",
   "mimetype": "text/x-python",
   "name": "python",
   "nbconvert_exporter": "python",
   "pygments_lexer": "ipython3",
   "version": "3.9.13"
  },
  "orig_nbformat": 4,
  "vscode": {
   "interpreter": {
    "hash": "72e8a1d7d41227b8ca2b59d00317ebe22d79688bc590e1781e21f9e5922633e0"
   }
  }
 },
 "nbformat": 4,
 "nbformat_minor": 2
}
