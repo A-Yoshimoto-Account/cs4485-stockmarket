{
 "cells": [
  {
   "cell_type": "code",
   "execution_count": 91,
   "metadata": {},
   "outputs": [],
   "source": [
    "import pandas as pd\n",
    "import numpy as np\n",
    "import string\n",
    "import re\n",
    "import tiktoken\n",
    "embedding_encoding = \"cl100k_base\"\n",
    "max_tokens = 8000\n",
    "file_name = 'context_03-31-2023.csv'\n",
    "collected_data = pd.read_csv(file_name)"
   ]
  },
  {
   "cell_type": "code",
   "execution_count": 107,
   "metadata": {},
   "outputs": [
    {
     "data": {
      "text/plain": [
       "'Advanced Micro Devices (AMD 0.13%) investors have been a happy lot so far this year, as shares of the chipmaker have shot up 51% year to date. This may seem a little surprising at first, given the persistent weakness in the personal computer (PC) market that has dealt a heavy blow to the company\\'s growth.\\n\\nAnalysts anticipate AMD to report $23.6 billion in revenue in 2023 -- which would be flat from last year -- along with a drop in earnings. But it looks like investors are focusing on the potential gains AMD could make in a couple of lucrative areas that could help it report much better growth than what Wall Street anticipates.\\n\\nLet\\'s take a closer look at those two catalysts that could help this growth stock sustain its terrific momentum.\\n\\nTech giants are now in an artificial intelligence (AI) arms race, thanks to the massive popularity gained by generative AI applications that can respond to user inputs and generate text, poetry, code, pictures, and audio, among other things. Allied Market Research estimates that the global generative AI market could clock annual growth of 32% over the next decade.\\n\\nThis AI boom will create the need for powerful data centers capable of crunching billions of data points to respond to user queries. That explains why the demand for AI-specific chips is expected to grow rapidly over the long run, clocking an annual growth rate of 37.1% through 2031 and generating $263.6 billion in annual revenue, per Allied Market Research.\\n\\nAMD is in a solid position to take advantage of this boom, as the server central processing units (CPUs) that it sells are expected to command a large share of this space, along with graphics processing units (GPUs). The good part is that AMD has been consistently gaining share in the server CPU market. Counterpoint Research estimates that AMD\\'s server market share increased to 20% at the end of 2022 from 11.7% at the end of the prior year.\\n\\nThat led to a big jump of 63% in AMD\\'s data center revenue during the year to just over $6 billion. This suggests AMD\\'s data center business still has a lot of room for growth, as it sees a long-term total addressable market worth $42 billion in this segment. The company counts AI inferencing as one of the key growth drivers for this segment, which is not surprising, as CPUs are the chip of choice to perform inference applications.\\n\\nAs a result, demand for processors capable of running AI applications should head higher. More specifically, sales of AI-capable processors to be deployed for cloud and data centers are expected to hit $38 billion in 2026 from $11 billion last year.\\n\\nNot surprisingly, AMD is specifically targeting this market, as its latest generation of EPYC server processors are among the first on the market to support DDR5 memory and fifth-generation peripheral component interconnect express (PCIe) that can double the amount of data transferred between components, as compared to the previous generation.\\n\\nIn all, AMD\\'s data center business can keep expanding thanks to AI, though this is just one of the reasons that make the stock a buy now.\\n\\n2. The gaming business could be another catalyst\\n\\nGaming was AMD\\'s biggest business segment last year, with revenue of $6.8 billion representing a 21% increase over 2021\\'s result for the segment. That was an impressive performance, considering the weakness in the gaming graphics card market that weighed heavily on the likes of key competitor Nvidia.\\n\\nAMD was also affected by the weakness in GPUs (graphics processing units), as the inventory correction in this market led to a year-over-year decline in graphics card revenue last quarter. However, AMD\\'s relationship with game console manufacturers such as Sony and Microsoft helped offset the weakness in graphics cards.\\n\\nAMD supplies semi-custom chips for the PlayStation 5 (PS5) and Xbox consoles. CEO Lisa Su remarked on the February earnings conference call that \"custom SoC revenue grew year over year as demand for game consoles remained strong during the holidays.\"\\n\\nThe demand for gaming consoles is expected to remain solid in the future as well. Global video game console sales are expected to increase from $100.4 billion last year to $107.6 billion in 2023, and then head to almost $131 billion in 2026.\\n\\nGiven that Xbox and PlayStation are the dominant gaming consoles on sale, it won\\'t be surprising to see AMD\\'s gaming business post healthy growth in 2023 and beyond. Additionally, AMD is expanding its footprint in the gaming laptop market.\\n\\nSu pointed out on the earnings call:\\n\\nThis puts AMD on track to take advantage of another big opportunity, as the size of the gaming laptop market is expected to jump from 17.7 million units last year to roughly 27 million units in 2028.\\n\\nFinally, investors should note that the gaming and data center businesses produced 54% of AMD\\'s top line last year. The tailwinds in these two businesses should continue to substantially move the needle for AMD in the future and help this semiconductor stock deliver more upside in the long run.'"
      ]
     },
     "execution_count": 107,
     "metadata": {},
     "output_type": "execute_result"
    }
   ],
   "source": [
    "# for x in collected_data.Content[0]:\n",
    "#     y = x.split()\n",
    "#     print(y)\n",
    "collected_data.Content[97]\n"
   ]
  },
  {
   "cell_type": "code",
   "execution_count": 82,
   "metadata": {},
   "outputs": [],
   "source": [
    "\n",
    "#removes double lines and single new lines\n",
    "collected_data[\"Content\"] = collected_data[\"Content\"].replace(to_replace = r'\\n\\n', value = '', regex=True)\n",
    "collected_data[\"Content\"] = collected_data[\"Content\"].replace(to_replace = r'\\n', value = '', regex=True)\n",
    "#removes escape charaters\n",
    "collected_data[\"Content\"] = collected_data[\"Content\"].replace(to_replace = r'\\'', value = '', regex=True)\n",
    "\n",
    "#removes any URL\n",
    "collected_data[\"Content\"] = collected_data[\"Content\"].replace(to_replace = r\"https?://\\S+|www.\\.\\S+\", value = '', regex=True)\n",
    "\n",
    "#removes any html\n",
    "collected_data[\"Content\"] = collected_data[\"Content\"].replace(to_replace = r\"<.*?>\", value = '', regex=True)\n",
    "\n",
    "#removes any emojis\n",
    "collected_data[\"Content\"] = collected_data[\"Content\"].replace(to_replace = \"[\"u\"\\U0001F600-\\U0001F64F\"\n",
    "                                                                              u\"\\U0001F300-\\U0001F5FF\"\n",
    "                                                                              u\"\\U0001F680-\\U0001F6FF\"\n",
    "                                                                              u\"\\U0001F1E0-\\U0001F1FF\"\n",
    "                                                                              u\"\\U00002702-\\U000027B0\"\n",
    "                                                                              u\"\\U000024C2-\\U0001F251\"\n",
    "                                                                              \"]+\", value = '', regex=True)\n",
    "\n",
    "\n"
   ]
  },
  {
   "cell_type": "code",
   "execution_count": 83,
   "metadata": {},
   "outputs": [],
   "source": [
    "collected_data[\"Combined\"] = (\n",
    "    \"Title: \" + collected_data.Title.str.strip() + \"; Date: \" + collected_data.Date.str.strip()\n",
    "    + \"; Content: \" + collected_data.Content.str.strip()\n",
    ")\n",
    "encoding = tiktoken.get_encoding(embedding_encoding)\n",
    "\n",
    "collected_data[\"n_tokens\"] = collected_data.Combined.apply(lambda x: len(encoding.encode(x)))\n",
    "collected_data = collected_data[collected_data.n_tokens <= max_tokens]\n",
    "\n",
    "\n"
   ]
  },
  {
   "cell_type": "code",
   "execution_count": 89,
   "metadata": {},
   "outputs": [
    {
     "data": {
      "text/plain": [
       "URL         https://www.fool.com/investing/2023/03/20/is-t...\n",
       "Title                 Is the AI Hype Making Nvidia Too Risky?\n",
       "Date                                               2023-03-20\n",
       "Content     Nvidia (NVDA 1.44%) is one of the main winners...\n",
       "Combined    Title: Is the AI Hype Making Nvidia Too Risky?...\n",
       "n_tokens                                                  115\n",
       "Name: 15, dtype: object"
      ]
     },
     "execution_count": 89,
     "metadata": {},
     "output_type": "execute_result"
    }
   ],
   "source": [
    "collected_data.loc[collected_data['n_tokens'].idxmin()]\n"
   ]
  },
  {
   "cell_type": "code",
   "execution_count": 102,
   "metadata": {},
   "outputs": [],
   "source": [
    "from collections import Counter\n",
    "\n",
    "#Count unique words\n",
    "def counter_word(text):\n",
    "    count = Counter()\n",
    "    for i in text.values:\n",
    "        for word in i.split():\n",
    "            count[word] -= 1\n",
    "    return count"
   ]
  },
  {
   "cell_type": "code",
   "execution_count": 103,
   "metadata": {},
   "outputs": [],
   "source": [
    "text = collected_data[\"Content\"]\n",
    "counter = counter_word(text)"
   ]
  },
  {
   "cell_type": "code",
   "execution_count": 60,
   "metadata": {},
   "outputs": [
    {
     "data": {
      "text/plain": [
       "934"
      ]
     },
     "execution_count": 60,
     "metadata": {},
     "output_type": "execute_result"
    }
   ],
   "source": [
    "len(counter)"
   ]
  },
  {
   "cell_type": "code",
   "execution_count": 106,
   "metadata": {},
   "outputs": [
    {
     "data": {
      "text/plain": [
       "[('But,', -1),\n",
       " ('topping', -1),\n",
       " ('serving', -1),\n",
       " ('glass', -1),\n",
       " ('half-full', -1),\n",
       " ('half-empty.', -1),\n",
       " ('reversing', -1),\n",
       " ('mid-February', -1),\n",
       " ('peak.', -1),\n",
       " ('breakdown', -1),\n",
       " ('thousand', -1),\n",
       " ('words.', -1),\n",
       " ('Take', -1),\n",
       " ('look:', -1),\n",
       " ('bumping', -1),\n",
       " ('Only', -1),\n",
       " ('Fiscal', -1),\n",
       " (\"cards'\", -1),\n",
       " (\"quarters'\", -1),\n",
       " ('matter.', -1),\n",
       " ('permanent', -1),\n",
       " ('condition.', -1),\n",
       " ('lesser-read', -1),\n",
       " ('notes', -1),\n",
       " (\"Kress'\", -1),\n",
       " ('explain,', -1),\n",
       " ('\"The', -1),\n",
       " ('year-on-year', -1),\n",
       " ('decreases', -1),\n",
       " ('reflect', -1),\n",
       " ('sell-in', -1),\n",
       " ('macro-economic', -1),\n",
       " ('demand.\"', -1),\n",
       " ('\"we', -1),\n",
       " ('[China].\"', -1),\n",
       " ('She', -1),\n",
       " ('laptops', -1),\n",
       " ('shelves\"', -1),\n",
       " ('\"delivering', -1),\n",
       " ('largest-ever', -1),\n",
       " ('leap', -1),\n",
       " ('efficiency.\"', -1),\n",
       " ('AI-focused', -1),\n",
       " ('resisting', -1),\n",
       " ('norm.', -1),\n",
       " ('her', -1),\n",
       " ('agree.', -1),\n",
       " ('26.5%', -1),\n",
       " ('Eos', -1),\n",
       " ('fastest', -1)]"
      ]
     },
     "execution_count": 106,
     "metadata": {},
     "output_type": "execute_result"
    }
   ],
   "source": [
    "counter.most_common(50)"
   ]
  },
  {
   "cell_type": "code",
   "execution_count": 49,
   "metadata": {},
   "outputs": [],
   "source": [
    "collected_data.to_csv(file_name)"
   ]
  }
 ],
 "metadata": {
  "kernelspec": {
   "display_name": "base",
   "language": "python",
   "name": "python3"
  },
  "language_info": {
   "codemirror_mode": {
    "name": "ipython",
    "version": 3
   },
   "file_extension": ".py",
   "mimetype": "text/x-python",
   "name": "python",
   "nbconvert_exporter": "python",
   "pygments_lexer": "ipython3",
   "version": "3.9.13"
  },
  "orig_nbformat": 4,
  "vscode": {
   "interpreter": {
    "hash": "72e8a1d7d41227b8ca2b59d00317ebe22d79688bc590e1781e21f9e5922633e0"
   }
  }
 },
 "nbformat": 4,
 "nbformat_minor": 2
}
