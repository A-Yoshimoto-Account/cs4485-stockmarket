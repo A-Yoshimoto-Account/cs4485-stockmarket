{
 "cells": [
  {
   "cell_type": "code",
   "execution_count": 9,
   "metadata": {},
   "outputs": [],
   "source": [
    "import requests, sys, time\n",
    "from bs4 import BeautifulSoup\n",
    "import pandas as pd"
   ]
  },
  {
   "cell_type": "code",
   "execution_count": 10,
   "metadata": {},
   "outputs": [],
   "source": [
    "url = \"https://finance.yahoo.com/quote/NVDA?p=NVDA\""
   ]
  },
  {
   "cell_type": "code",
   "execution_count": 11,
   "metadata": {},
   "outputs": [],
   "source": [
    "try:\n",
    "    response = requests.get(url)\n",
    "except Exception as e:  \n",
    "    error_type, error_obj, error_info = sys.exc_info()      # get the exception information\n",
    "    print (f'ERROR FOR LINK: \\\"{url}\\\"')                    # print the link that cause the problem\n",
    "    print (error_type, 'Line:', error_info.tb_lineno)       # print error info and line that threw the exception "
   ]
  },
  {
   "cell_type": "code",
   "execution_count": 12,
   "metadata": {},
   "outputs": [],
   "source": [
    "page_content = response.text\n",
    "page = BeautifulSoup(page_content, 'html.parser')"
   ]
  },
  {
   "cell_type": "code",
   "execution_count": 13,
   "metadata": {},
   "outputs": [
    {
     "name": "stdout",
     "output_type": "stream",
     "text": [
      "20\n"
     ]
    }
   ],
   "source": [
    "tags = page.find_all('a', {'class': \"js-content-viewer\"})\n",
    "print(len(tags))"
   ]
  },
  {
   "cell_type": "code",
   "execution_count": 14,
   "metadata": {},
   "outputs": [
    {
     "data": {
      "text/plain": [
       "['https://finance.yahoo.com/news/3-big-calls-in-the-stock-market-you-might-have-missed-this-week-111913931.html',\n",
       " 'https://finance.yahoo.com/video/walmart-home-depot-nvidia-week-202119218.html',\n",
       " 'https://finance.yahoo.com/video/well-nvidia-positioned-amid-growing-201634000.html',\n",
       " 'https://finance.yahoo.com/news/nvidia-is-tying-its-future-to-ai-at-just-the-right-time-195455376.html',\n",
       " 'https://finance.yahoo.com/m/cde591e1-c679-38a5-9625-0fe74d3d6234/nvidia-shares-soar-on.html',\n",
       " 'https://finance.yahoo.com/m/9d3c1a3b-0822-317f-89e2-0d953fd736c5/nvidia-and-jensen-huang-are.html',\n",
       " 'https://finance.yahoo.com/m/23b570db-735f-3e71-9c5c-07cc30e3aefd/why-nvidia-continued-its-run.html',\n",
       " 'https://finance.yahoo.com/m/e46279a8-4a3a-310d-b1e9-86d9a7ac606e/nvidia-stock-in-buy-range.html',\n",
       " 'https://finance.yahoo.com/news/nvidias-jump-boosts-ai-semiconductor-201500527.html',\n",
       " 'https://finance.yahoo.com/news/company-news-feb-24-2023-141202092.html',\n",
       " 'https://finance.yahoo.com/news/etsys-q4-earnings-miss-estimates-183606392.html',\n",
       " 'https://finance.yahoo.com/news/nvidia-nvda-q4-earnings-sales-131501374.html',\n",
       " 'https://finance.yahoo.com/m/de6b28e8-9d54-3a7e-bbc5-279f67694fdb/dow-jones-futures-fall-.html',\n",
       " 'https://finance.yahoo.com/m/e46279a8-4a3a-310d-b1e9-86d9a7ac606e/nvidia-stock-in-buy-range.html',\n",
       " 'https://finance.yahoo.com/m/284fd0cd-a6ad-3193-a82a-95ef0edb2e47/nvidia-stock-surges-after.html',\n",
       " 'https://finance.yahoo.com/m/01faac0b-3da7-34af-987e-0c34fc00be7f/nvidia-stock-jumps-after.html',\n",
       " 'https://finance.yahoo.com/news/markets-plunge-fed-rate-hike-fears-ftse-closes-in-red-085731591.html',\n",
       " 'https://finance.yahoo.com/m/7bf9cf89-5595-3066-854e-97b2908d0bb7/us-markets-rise-ahead-of-key.html',\n",
       " 'https://finance.yahoo.com/m/cbcf37b1-e246-3b58-9590-5b99b687eb84/here-s-why-nvidia-stock.html',\n",
       " 'https://finance.yahoo.com/news/nvidia-announces-upcoming-events-financial-220000649.html']"
      ]
     },
     "execution_count": 14,
     "metadata": {},
     "output_type": "execute_result"
    }
   ],
   "source": [
    "links = []\n",
    "for refrence in tags:\n",
    "    links.append(\"https://finance.yahoo.com\" + refrence['href']) \n",
    "links"
   ]
  },
  {
   "cell_type": "code",
   "execution_count": 15,
   "metadata": {},
   "outputs": [
    {
     "data": {
      "text/plain": [
       "['https://finance.yahoo.com/news/3-big-calls-in-the-stock-market-you-might-have-missed-this-week-111913931.html',\n",
       " 'https://finance.yahoo.com/news/nvidia-is-tying-its-future-to-ai-at-just-the-right-time-195455376.html',\n",
       " 'https://finance.yahoo.com/m/cde591e1-c679-38a5-9625-0fe74d3d6234/nvidia-shares-soar-on.html',\n",
       " 'https://finance.yahoo.com/m/9d3c1a3b-0822-317f-89e2-0d953fd736c5/nvidia-and-jensen-huang-are.html',\n",
       " 'https://finance.yahoo.com/m/23b570db-735f-3e71-9c5c-07cc30e3aefd/why-nvidia-continued-its-run.html',\n",
       " 'https://finance.yahoo.com/m/e46279a8-4a3a-310d-b1e9-86d9a7ac606e/nvidia-stock-in-buy-range.html',\n",
       " 'https://finance.yahoo.com/news/nvidias-jump-boosts-ai-semiconductor-201500527.html',\n",
       " 'https://finance.yahoo.com/news/company-news-feb-24-2023-141202092.html',\n",
       " 'https://finance.yahoo.com/news/etsys-q4-earnings-miss-estimates-183606392.html',\n",
       " 'https://finance.yahoo.com/news/nvidia-nvda-q4-earnings-sales-131501374.html',\n",
       " 'https://finance.yahoo.com/m/de6b28e8-9d54-3a7e-bbc5-279f67694fdb/dow-jones-futures-fall-.html',\n",
       " 'https://finance.yahoo.com/m/e46279a8-4a3a-310d-b1e9-86d9a7ac606e/nvidia-stock-in-buy-range.html',\n",
       " 'https://finance.yahoo.com/m/284fd0cd-a6ad-3193-a82a-95ef0edb2e47/nvidia-stock-surges-after.html',\n",
       " 'https://finance.yahoo.com/m/01faac0b-3da7-34af-987e-0c34fc00be7f/nvidia-stock-jumps-after.html',\n",
       " 'https://finance.yahoo.com/news/markets-plunge-fed-rate-hike-fears-ftse-closes-in-red-085731591.html',\n",
       " 'https://finance.yahoo.com/m/7bf9cf89-5595-3066-854e-97b2908d0bb7/us-markets-rise-ahead-of-key.html',\n",
       " 'https://finance.yahoo.com/m/cbcf37b1-e246-3b58-9590-5b99b687eb84/here-s-why-nvidia-stock.html',\n",
       " 'https://finance.yahoo.com/news/nvidia-announces-upcoming-events-financial-220000649.html']"
      ]
     },
     "execution_count": 15,
     "metadata": {},
     "output_type": "execute_result"
    }
   ],
   "source": [
    "links = [x for x in links if \"video\" not in x]"
   ]
  },
  {
   "cell_type": "code",
   "execution_count": null,
   "metadata": {},
   "outputs": [],
   "source": []
  }
 ],
 "metadata": {
  "kernelspec": {
   "display_name": "Python 3",
   "language": "python",
   "name": "python3"
  },
  "language_info": {
   "codemirror_mode": {
    "name": "ipython",
    "version": 3
   },
   "file_extension": ".py",
   "mimetype": "text/x-python",
   "name": "python",
   "nbconvert_exporter": "python",
   "pygments_lexer": "ipython3",
   "version": "3.11.1"
  },
  "orig_nbformat": 4,
  "vscode": {
   "interpreter": {
    "hash": "bf76441dbe4afb6b39d8d92fd21c31e10267c5fc21ab228f33891a3330b4175d"
   }
  }
 },
 "nbformat": 4,
 "nbformat_minor": 2
}
