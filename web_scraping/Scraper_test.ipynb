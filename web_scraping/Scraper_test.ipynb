{
 "cells": [
  {
   "cell_type": "code",
   "execution_count": 4,
   "metadata": {},
   "outputs": [],
   "source": [
    "import requests, sys, time\n",
    "from datetime import datetime\n",
    "from bs4 import BeautifulSoup\n",
    "import pandas as pd"
   ]
  },
  {
   "cell_type": "code",
   "execution_count": 5,
   "metadata": {},
   "outputs": [],
   "source": [
    "# When a browser makes a request to a website, it passes basic info about the browser.\n",
    "# With this header, we use this same interaction s.t. the scraper looks less like a bot\n",
    "request_headers = {\n",
    "    'accept': '*/*',\n",
    "    'accept-encoding': 'gzip, deflate, br',\n",
    "    'accept-language': 'en-US,en;q=0.9',\n",
    "    'referer': 'https://www.google.com',\n",
    "    'user-agent': 'Mozilla/5.0 (Windows NT 10.0; Win64; x64) AppleWebKit/537.36 (KHTML, like Gecko) Chrome/85.0.4183.83 Safari/537.36 Edg/85.0.564.44'\n",
    "}"
   ]
  },
  {
   "cell_type": "code",
   "execution_count": 6,
   "metadata": {},
   "outputs": [],
   "source": [
    "# From a yahoo finance search, we can pull urls to financial/buisness news on a search term search term\n",
    "def make_search_query(search_term):\n",
    "    url = f'https://finance.yahoo.com/quote/{search_term}?p={search_term}'\n",
    "    \n",
    "    # Make a request and parse the search page\n",
    "    response = requests.get(url, request_headers)\n",
    "    soup = BeautifulSoup(response.content, 'html.parser')\n",
    "    tags = soup.find_all('a', {'class': \"js-content-viewer\"})\n",
    "    \n",
    "    # Extract article links\n",
    "    article_urls = []\n",
    "    for refrence in tags:\n",
    "        article_urls.append(\"https://finance.yahoo.com\" + refrence['href']) \n",
    "\n",
    "    return article_urls"
   ]
  },
  {
   "cell_type": "code",
   "execution_count": 7,
   "metadata": {},
   "outputs": [
    {
     "name": "stdout",
     "output_type": "stream",
     "text": [
      "['https://finance.yahoo.com/m/5ce34a5c-c296-33f4-a379-70567930a6db/nvidia-s-stock-offering-a.html', 'https://finance.yahoo.com/m/c35c3145-db26-3f8c-953e-3e195ec0f295/intel-s-roadmap-changes-a.html', 'https://finance.yahoo.com/m/e55ff48d-9785-34d2-a29b-ceb1ca745495/why-super-micro-computer.html', 'https://finance.yahoo.com/m/684c930d-1475-3adc-b013-ae604c056ebc/artificial-intelligence.html', 'https://finance.yahoo.com/m/2c245944-1827-365c-91cf-fe92143a279e/investors-cash-in-on-12.html', 'https://finance.yahoo.com/news/buy-nvidia-corporation-nvda-now-113025502.html', 'https://finance.yahoo.com/m/36466dfa-a386-3fec-aba1-ebc0e331ca3e/as-chip-sales-dry-up-nvidia.html', 'https://finance.yahoo.com/m/36680d0a-3391-3319-9f7b-8cd3c5718783/tech-execs-didn%E2%80%99t-just-start.html', 'https://finance.yahoo.com/m/765dc080-a51c-303c-846f-a6bcf68867ae/this-solar-ipo-nvidia-uber.html', 'https://finance.yahoo.com/m/e5ffda0e-2346-3d8c-82cb-51c76f707f08/why-did-nvidia-stock-climb.html']\n"
     ]
    }
   ],
   "source": [
    "search_term = \"NVDA\"\n",
    "article_urls = make_search_query(search_term)\n",
    "print(article_urls)"
   ]
  },
  {
   "cell_type": "code",
   "execution_count": 8,
   "metadata": {},
   "outputs": [],
   "source": [
    "# On yahoo finance, our search results contains 3 types of results:\n",
    "# 1 - videos: videos contain \"video\" in the url, we can reject all videos\n",
    "# 2 - redirects: redericts will take you to a portion of the article and have a link to the full article. We want to pull the link to the full article\n",
    "# 3 - articles: the article is hosted directly on yahoo finance and no further work is needed\n",
    "def filter_articles(article_urls):\n",
    "    filtered_urls = []\n",
    "    for url in article_urls:\n",
    "        if \"video\" in url:\n",
    "            continue\n",
    "        elif \"/m/\" in url:\n",
    "            response = requests.get(url, request_headers)\n",
    "            soup = BeautifulSoup(response.content, 'html.parser')\n",
    "            tags = soup.find_all('a', {'class': \"link caas-button\"})\n",
    "            url = tags[0]['href']\n",
    "        filtered_urls.append(url)\n",
    "    return filtered_urls"
   ]
  },
  {
   "cell_type": "code",
   "execution_count": 9,
   "metadata": {},
   "outputs": [
    {
     "name": "stdout",
     "output_type": "stream",
     "text": [
      "['https://www.fool.com/investing/2023/03/07/nvidias-stock-offering-a-sign-of-confidence-or-des/?source=eptyholnk0000202&utm_source=yahoo-host&utm_medium=feed&utm_campaign=article', 'https://www.fool.com/investing/2023/03/07/intels-roadmap-changes-a-sign-of-desperation-or-a/?source=eptyholnk0000202&utm_source=yahoo-host&utm_medium=feed&utm_campaign=article', 'https://www.fool.com/investing/2023/03/07/why-super-micro-computer-gained-354-in-february/?source=eptyholnk0000202&utm_source=yahoo-host&utm_medium=feed&utm_campaign=article', 'https://www.investors.com/news/technology/artificial-intelligence-stocks/?src=A00220', 'https://www.investors.com/etfs-and-funds/sectors/sp500-investors-cash-in-on-triple-play-stocks-that-can-do-no-wrong/?src=A00220', 'https://finance.yahoo.com/news/buy-nvidia-corporation-nvda-now-113025502.html', 'https://www.marketwatch.com/story/as-chip-sales-dry-up-nvidia-cfo-says-spending-on-ai-will-save-companies-money-d94c504b?siteid=yhoof2', 'https://www.marketwatch.com/story/tech-execs-didnt-just-start-talking-about-ai-but-they-are-talking-about-it-a-lot-more-a11accae?siteid=yhoof2', 'https://www.investors.com/research/how-to-find-the-best-stocks-to-buy/nvidia-uber-solar-ipo-nextracker-test-drive-buy-zones/?src=A00220', 'https://www.fool.com/investing/2023/03/06/why-did-nvidia-stock-climb-19-in-february/?source=eptyholnk0000202&utm_source=yahoo-host&utm_medium=feed&utm_campaign=article']\n"
     ]
    }
   ],
   "source": [
    "filtered_urls = filter_articles(article_urls)\n",
    "print(filtered_urls)\n"
   ]
  },
  {
   "cell_type": "code",
   "execution_count": 20,
   "metadata": {},
   "outputs": [],
   "source": [
    "# now that we have usable urls, we can gather the info we want from each article\n",
    "def explore_articles(article_urls):\n",
    "    articles = []\n",
    "    for url in article_urls:\n",
    "        response = requests.get(url, request_headers)\n",
    "        soup = BeautifulSoup(response.content, 'html.parser')\n",
    "        \n",
    "        source = None\n",
    "        try:\n",
    "            title = soup.find('h1').get_text()\n",
    "        except:\n",
    "            title = None\n",
    "        try:\n",
    "            publish_date = soup.find('time').get('datetime')\n",
    "        except:\n",
    "            publish_date = None\n",
    "        keywords = None\n",
    "\n",
    "        try:\n",
    "            content = ''\n",
    "            for paragraph in soup.find_all('p'):\n",
    "                content += paragraph.get_text()\n",
    "        except:\n",
    "            content = None\n",
    "        articles.append({'Title': title, 'Publish Date': publish_date, 'Content': content})\n",
    "    return articles\n",
    "#df = pd.DataFrame(data)\n",
    "        "
   ]
  },
  {
   "cell_type": "code",
   "execution_count": 21,
   "metadata": {},
   "outputs": [
    {
     "name": "stdout",
     "output_type": "stream",
     "text": [
      "[{'Title': \"Nvidia's Stock Offering -- a Sign of Confidence or Desperation?\", 'Publish Date': None, 'Content': \"Founded in 1993 by brothers Tom and David Gardner, The Motley Fool helps millions of people attain financial freedom through our website, podcasts, books, newspaper column, radio show, and premium investing services.Founded in 1993 by brothers Tom and David Gardner, The Motley Fool helps millions of people attain financial freedom through our website, podcasts, books, newspaper column, radio show, and premium investing services.You’re reading a free article with opinions that may differ from The Motley Fool’s Premium Investing Services. Become a Motley Fool member today to get instant access to our top analyst recommendations, in-depth research, investing resources, and more. Learn MoreNvidia's\\xa0(NVDA -1.11%) stock price has increased over 60% year to date and it has been one of the best-performing semiconductor stocks to start the year off. In late February, there was an SEC filing for a mixed-shelf offering by Nvidia, which allows it to build up cash in various ways. But why does it need the money? Check out the short video to learn what semiconductor investors Jose Najarro, Nicholas Rossolillo, and Billy Duberstein had to say. Also, consider subscribing, and click the special offer link below.*Stock prices used were the market prices of March 2, 2023. The video was published on March 3, 2023.Billy Duberstein has no position in any of the stocks mentioned. Jose Najarro has positions in Nvidia. Nicholas Rossolillo has positions in Nvidia. The Motley Fool has positions in and recommends Nvidia. The Motley Fool has a disclosure policy.\\xa0Jose Najarro is an affiliate of The Motley Fool and may be compensated for promoting its services. If you choose to subscribe through\\xa0their link\\xa0they will earn some extra money that supports their channel. Their opinions remain their own and are unaffected by The Motley Fool.*Average returns of all recommendations since inception. Cost basis and return based on previous market day close.\\nInvest better with The Motley Fool. Get stock recommendations, portfolio guidance, and more from The Motley Fool's premium services.\\nMaking the world smarter, happier, and richer.Market data powered by Xignite.\"}, {'Title': \"Intel's Roadmap Changes -- a Sign of Desperation or a Bold Move?\", 'Publish Date': None, 'Content': \"Founded in 1993 by brothers Tom and David Gardner, The Motley Fool helps millions of people attain financial freedom through our website, podcasts, books, newspaper column, radio show, and premium investing services.Founded in 1993 by brothers Tom and David Gardner, The Motley Fool helps millions of people attain financial freedom through our website, podcasts, books, newspaper column, radio show, and premium investing services.You’re reading a free article with opinions that may differ from The Motley Fool’s Premium Investing Services. Become a Motley Fool member today to get instant access to our top analyst recommendations, in-depth research, investing resources, and more. Learn MoreIntel\\xa0(INTC -1.77%) is focusing on simplifying its roadmap to focus on making significant generational performance leaps, but this may give an advantage to its competitors Advanced Micro Devices\\xa0(AMD 1.17%) and\\xa0Nvidia\\xa0(NVDA -1.11%). At the same time, there are reports that Intel's manufacturing development is doing better than expected. Check out the short video to learn more, consider subscribing, and click the special offer link below.*Stock prices used were the market prices of March 6, 2023. The video was published on March 6, 2023.Jose Najarro has positions in Advanced Micro Devices and Nvidia. The Motley Fool has positions in and recommends Advanced Micro Devices, Intel, and Nvidia. The Motley Fool recommends the following options: long January 2023 $57.50 calls on Intel, long January 2025 $45 calls on Intel, and short January 2025 $45 puts on Intel. The Motley Fool has a disclosure policy.\\xa0Jose Najarro is an affiliate of The Motley Fool and may be compensated for promoting its services. If you choose to subscribe through\\xa0their link they will earn some extra money that supports their channel. Their opinions remain their own and are unaffected by The Motley Fool.*Average returns of all recommendations since inception. Cost basis and return based on previous market day close.\\nInvest better with The Motley Fool. Get stock recommendations, portfolio guidance, and more from The Motley Fool's premium services.\\nMaking the world smarter, happier, and richer.Market data powered by Xignite.\"}, {'Title': 'Why Super Micro Computer Gained 35.4% in February', 'Publish Date': None, 'Content': 'Founded in 1993 by brothers Tom and David Gardner, The Motley Fool helps millions of people attain financial freedom through our website, podcasts, books, newspaper column, radio show, and premium investing services.Founded in 1993 by brothers Tom and David Gardner, The Motley Fool helps millions of people attain financial freedom through our website, podcasts, books, newspaper column, radio show, and premium investing services.You’re reading a free article with opinions that may differ from The Motley Fool’s Premium Investing Services. Become a Motley Fool member today to get instant access to our top analyst recommendations, in-depth research, investing resources, and more. Learn MoreShares of server company Super Micro Computer (SMCI 0.21%) rose 35.4% in February, according\\xa0to data provided by\\xa0S&P Global Market Intelligence.Super Micro stock was the rare 2022 winner in the tech space, nearly doubling in a year when the Nasdaq fell over 30%. In January, the stock became the target of a short report from activist short-seller Spruce Point Capital, which caused the stock to sell off as investors booked gains and shorts piled in.However, Super Micro reported solid results on Jan. 31 after market close, and the stock regained its footing through February. Moreover, Super Micro is a close partner of Nvidia,\\xa0which reported better-than-expected results and gave a positive outlook on artificial intelligence (AI) server demand.In its second fiscal quarter ending in December, Super Micro reported 53.8% revenue growth to $1.8 billion, beating expectations by $20 million, with non-GAAP (adjusted) earnings per share of $3.26, beating expectations by $0.23. That\\'s certainly eye-popping growth, and defies a lot of other technology hardware companies showing revenue declines. The outperformance can likely be attributed to Super Micro\\'s energy-efficient and customizable server designs, which are finding favor among companies investing in AI and 5G capabilities, especially in an age of electricity price volatility.Of note, Super Micro did guide for a sequential decline in the quarter ahead; however, the March quarter is usually a seasonally lower quarter. Moreover, CEO Charles Liang said he expects mid-30% growth for fiscal 2023 ending in June. Even more encouraging and maybe surprising, Liang also said he expects 20% growth in fiscal 2024. How does Super Micro plan to defy the tough economy? Given that Intel, Advanced Micro Devices, and Nvidia all have brand-new advanced chips that just hit the market, Liang believes that will sustain Super Micro\\'s sales growth, despite the economic slowdown.Super Micro also has a close relationship with Nvidia. On Nvidia\\'s Feb. 22 earnings conference call, CEO Jensen Huang had positive things to say about its data center business, claiming the advent of ChatGPT and generative AI had \"brought AI to an inflection point.\" Nvidia CFO Colette Kress added she expects Nvidia\\'s data center revenue to accelerate throughout the year.That also bodes well for Super Micro, which sells AI servers powered by Nvidia GPUs. On SMCI\\'s conference call, management pointed to AI/GPU platforms showing strong outperformance, exceeding 20% of revenue and calling AI/GPU servers a \"significant opportunity.\"Super Micro Computer is a server assembler, which doesn\\'t seem like that great of a business. However, its close co-development relationships with Nvidia, AMD, and Intel, as well as its focus on energy-efficient server system design is certainly \"serving\" it well these days. Moreover, even after the stock\\'s massive run, it only trades at a 9 P/E multiple. All in all, Super Micro still looks like the value investor\\'s way to play the AI megatrend. Billy Duberstein has positions in Super Micro Computer and has the following options: short May 2023 $135 calls on Super Micro Computer and short May 2023 $140 calls on Super Micro Computer. His clients may own shares of the companies mentioned. The Motley Fool has positions in and recommends Advanced Micro Devices, Intel, and Nvidia. The Motley Fool recommends the following options: long January 2023 $57.50 calls on Intel, long January 2025 $45 calls on Intel, and short January 2025 $45 puts on Intel. The Motley Fool has a disclosure policy.*Average returns of all recommendations since inception. Cost basis and return based on previous market day close.\\nInvest better with The Motley Fool. Get stock recommendations, portfolio guidance, and more from The Motley Fool\\'s premium services.\\nMaking the world smarter, happier, and richer.Market data powered by Xignite.'}, {'Title': 'Please verify you are a human', 'Publish Date': None, 'Content': '\\n                Access to this page has been denied because we believe you are using automation tools to browse the\\n                website.\\n            \\n                This may happen as a result of the following:\\n            \\n                Please make sure that Javascript and cookies are enabled on your browser and that you are not blocking\\n                them from loading.\\n            \\n                Reference ID: #61fdc163-bd5a-11ed-97c7-41744b597758\\n            \\n                Powered by\\n                PerimeterX\\n                , Inc.\\n            '}, {'Title': 'Please verify you are a human', 'Publish Date': None, 'Content': '\\n                Access to this page has been denied because we believe you are using automation tools to browse the\\n                website.\\n            \\n                This may happen as a result of the following:\\n            \\n                Please make sure that Javascript and cookies are enabled on your browser and that you are not blocking\\n                them from loading.\\n            \\n                Reference ID: #6210986e-bd5a-11ed-854c-75777067466d\\n            \\n                Powered by\\n                PerimeterX\\n                , Inc.\\n            '}, {'Title': 'Yahoo Finance', 'Publish Date': '2023-03-07T11:30:25.000Z', 'Content': 'ClearBridge Investments, an investment management company, released its “ClearBridge Large Cap Growth Strategy” fourth quarter 2022 investor letter. A copy of the same can be\\xa0downloaded here. In the fourth quarter, the strategy outperformed its benchmark, the Russell 1000 Growth Index. The strategy gained in seven out of nine sectors it invested in the quarter on an absolute basis. Healthcare and industrials sectors were the primary contributors while the consumer discretionary sector detracted from the performance. Overall stock selection and sector allocation contributed to the strategy’s performance on a relative basis. In addition, please check the fund’s top five holdings to know its best picks in 2022.ClearBridge Large Cap Growth Strategy highlighted stocks like NVIDIA Corporation (NASDAQ:NVDA) in the Q4 2022 investor letter. Headquartered in Santa Clara, California, NVIDIA Corporation (NASDAQ:NVDA) is a graphics, and compute and networking solutions provider. On March 6, 2023, NVIDIA Corporation (NASDAQ:NVDA) stock closed at $235.54 per share. One-month return of NVIDIA Corporation (NASDAQ:NVDA) was 6.21%, and its shares gained 9.46% of their value over the last 52 weeks. NVIDIA Corporation (NASDAQ:NVDA) has a market capitalization of $586.966 billion.ClearBridge Large Cap Growth Strategy made the following comment about NVIDIA Corporation (NASDAQ:NVDA) in its Q4 2022 investor letter:\"Promoting diversification and managing risk continue to guide our transaction activity, with a focus on the earnings trajectory of existing and potential holdings leading to our most recent moves. We are directing our research efforts to identifying names that are closer to the bottom than the top in terms of earnings and valuations, adding to our positions in ASML, the leading supplier of high-end production equipment to chip makers, and NVIDIA Corporation (NASDAQ:NVDA), whose valuation has washed out due to weakness in gaming and crypto mining as well as slowing enterprise spending.\"Photo by Christian Wiediger on UnsplashNVIDIA Corporation (NASDAQ:NVDA) is in 28th position on our list of\\xa030 Most Popular Stocks Among Hedge Funds. As per our database, 106 hedge fund portfolios held NVIDIA Corporation (NASDAQ:NVDA) at the end of the fourth quarter which was 89 in the previous quarter.We discussed NVIDIA Corporation (NASDAQ:NVDA) in another article and shared the list of most promising metaverse stocks to buy. In addition, please check out our hedge fund investor letters Q4 2022 page for more investor letters from hedge funds and other leading investors.\\xa0Suggested Articles:11 High Growth Monthly Dividend Stocks to Buy12 High Growth Forever Dividend Stocks15 Biggest Retirement Communities in the WorldDisclosure: None. This article is originally published at Insider Monkey.Related Quotes'}, {'Title': '\\n  As chip sales dry up, Nvidia CFO says spending on AI will save companies money\\n', 'Publish Date': None, 'Content': \"Nvidia Corp.’s financial chief reasons that the efficiencies businesses need are not from spending less money, but from spending more on technologies like artificial intelligence, even as chip sales dry up. “AI is in an inflection point,” Nvidia’s \\n        NVDA,\\n        -1.11%\\n       Colette Kress told Morgan Stanley’s Technology Media and Telecom Conference on Monday. “We’ve now incurred a point in time with generative AI, in particular with [OpenAI’s] ChatGPT, that folks understand, and just some of the most simple cases how this can benefit them — benefit them from a use case as a consumer, or an enterprise on thinking about how they can develop AI within their universe as well.”In that vein, Kress made the pitch that tightening the belt was not always the best way to save money, seeing that the recent jump in interest in ChatGPT taxed many public servers’ capacity.“When you think about these economic times, it’s both a time for folks to focus on their budgets or focus on what they’re spending on,” Kress said. “However, they’re still working on efficiencies of how they’re using their money, how they’re using their capital.”“The focus on accelerated computing, no matter how you look at it, is always going to be an improvement of efficiency and the use of their money,” Kress said. “The amount of money that they save in terms of moving to accelerated, not only is it more efficient just from a computing standpoint, but you’re spending less.”Read: Nvidia adds to AI hype with new cloud-based service, stock jumps on forecastBut customers are already spending less. The Semiconductor Industry Association said Friday that global chip-industry sales for January fell 18.5% to $41.3 billion from a year ago and 5.2% from December 2022’s $43.6 billion.“Despite record-high sales in 2022, the global semiconductor market cooled considerably during the second half of the year, and that trend continued during the first month of 2023,” said John Neuffer, SIA president and CEO. “Despite the current short-term cyclical downturn, the long-term outlook for the semiconductor market remains strong due to the ever-increasing role of chips in powering the critical technologies of today and tomorrow.”Looking at SIA data, Bernstein analyst Stacy Rasgon noted that month-over-month data was worse than typical seasonality and that memory-chip sales — those from companies like Micron Technology Inc. \\n        MU,\\n        -2.23%\\n       — fell 58.6% year-over-year.For Nvidia, “opportunities around data center, software and auto remain early, and large,” Rasgon said, even with gaming headwinds and near-term China sentiment; Broadcom “has a good narrative & margin of safety with semi revenue visibility, software offering support, cash deployment, superb margins & [free cash flow], & attractive valuation;” and Qualcomm struggles against “a weak market and channel flush … impacting near-term trajectory, but the shares remain very inexpensive and setup into 2024 looks good as things normalize and Apple Inc. \\n        AAPL,\\n        -1.45%\\n       business hangs around.”For AMD, “the server story is working, though PC weakness (and potentially damaging behavior from their competitor) is weighing, and margins may face headwinds,” and Intel’s “long-term structural issues have finally broken to the forefront,” Rasgon wrote.Rasgon has outperform ratings on Nvidia, Qualcomm, and Broadcom, market-perform rating on AMD, and an underperform rating on Intel. Read more:\\xa0The world is buying fewer devices, and inventories for PCs, phones and tablets are buildingCiti Research analyst Christopher Danely wrote in a note last week that “half” of the chip glut — PCs and wireless — has been worked through, evidenced by the massive inventory charges taken by chip makers like Intel Corp. \\n        INTC,\\n        -1.77%,\\n       Advanced Micro Devices Inc. \\n        AMD,\\n        +1.17%,\\n       Nvidia and Qualcomm Inc. \\n        QCOM,\\n        -2.63%\\n       in recent earnings reports. Qualcomm’s forecast predicted that\\xa0inventory issues would persist into June. According to Danely, that other “half” — the increasingly important data-center market, sustained by public-cloud providers like Amazon.com Inc. \\n        AMZN,\\n        -0.21%,\\n       Microsoft Corp. \\n        MSFT,\\n        -1.06%\\n       and Alphabet Inc.’s \\n        GOOG,\\n        -1.48%\\nGOOGL,\\n        -1.34%\\n       Google, and the auto and industrial markets that were starved of chips during the pandemic, the ones supplied by Texas Instruments Inc. \\n        TXN,\\n        -0.57%\\n       and NXP Semiconductors NV \\n        NXPI,\\n        -1.41%\\n      — are due for a correction. The PHLX Semiconductor Index\\xa0\\n        SOX,\\n        -1.07%,\\n       which tracks 30 components of the semiconductor industry and counts Nvidia and third-party fab provider Taiwan Semiconductor Manufacturing Co. \\n        TSM,\\n        -0.81%\\n       among its largest, last peaked on Dec. 27, 2021, when it closed at a record 4,039.51. A little more than a year ago, the sector then dropped from those record highs to within bear-market territory in a month — and are still 26% off those highs — as fears of a glut began to set in with Wall Street.Over the past 12 months, however, the SOX index is only down 8% — given 2023’s strong year out of the gate, with an 18% gain — while the Dow Jones Industrial Average\\xa0\\n        DJIA,\\n        -1.72%\\n      \\xa0has slipped less than 1% over the past 12 months, the S&P 500\\xa0index \\n        SPX,\\n        -1.53%\\n       has declined 6.5%, and the tech-heavy Nasdaq Composite Index \\n        COMP,\\n        -1.25%\\n       has fallen 12%. Facebook and Instagram parent company Meta Platforms Inc. is preparing for a new round of layoffs, according to a new report, just four months after slashing 13% of its workforce. Wallace Witkowski came to MarketWatch from the Associated Press in New York, where he covered the business of Big Pharma, after covering FDA regulation of many of the same companies, as well as medical devices, in the Washington, D.C., area. Based in San Francisco, his current focus is on the more exciting world of semiconductors, videogames and cybersecurity, when he's not churning out earnings coverage. Follow him on Twitter at: @wmwitkowski.Wallace Witkowski came to MarketWatch from the Associated Press in New York, where he covered the business of Big Pharma, after covering FDA regulation of many of the same companies, as well as medical devices, in the Washington, D.C., area. Based in San Francisco, his current focus is on the more exciting world of semiconductors, videogames and cybersecurity, when he's not churning out earnings coverage. Follow him on Twitter at: @wmwitkowski.Visit a quote page and your recently viewed tickers will be displayed here.\"}, {'Title': '\\n  Tech execs didn’t just start talking about AI — but they are talking about it a lot more\\n', 'Publish Date': None, 'Content': 'Do you feel like you’ve been hearing a lot more about artificial intelligence in 2023? A MarketWatch analysis shows you probably have, though mentions of the technology are coming from roughly the same number of sources.The number of AI mentions on corporate earnings calls spiked more than 75% so far this year relative to the same period in 2022, according to a MarketWatch analysis of AlphaSense/Sentieo transcript data for companies worth at least $5 billion. The topic of AI has come up on roughly 280 of those calls in 2023, comparable to what was seen in the same period a year ago. But executives are getting more breathless in their discussions, with 1,770 mentions of AI or artificial intelligence so far this year, up from 1,006 last year. Those counts also include references from analysts who ask questions about AI. Looking at a broader swath of companies that includes smaller ones, February 2023 saw a record number of earnings calls that discussed artificial intelligence, though that growth still didn’t come close to the increase in the number of mentions. There were 488 transcripts mentioning AI in February, besting the 440 from November 2021 by nearly 11%. Previously: Tech execs can’t stop talking about AI after success of ChatGPTThe AI discussion continues to get more global, according to Nick Mazing, the research director at AlphaSense/Sentieo. Additionally, it’s spanning more industries, as marketers, real-estate companies and medical businesses find new applications. Tempting as it may be to inform investors of involvement with a hot trend, companies have been warned to tread carefully with their AI mentions. A Federal Trade Commission lawyer cautioned recently that companies wouldn’t be able to get away with “baseless claims” of “AI-enabled” products. For more: Watch your ‘AI hype,’ feds warn tech companiesThe AI mania arrived in the wake of OpenAI’s public launch of ChatGPT, a generative-AI chatbot that showed more people what could be done with artificial intelligence. Stocks that can claim a strong commitment to AI have been rewarded amid the buzz: C3.ai Inc. \\n        AI,\\n        -4.46%\\n       has gained more than 150% so far this year, and BigBear.ai Inc. \\n        BBAI,\\n        -5.03%\\n       has increased more than 385%.AI has also come up often on tech earnings calls from much bigger names so far this year. Executives from Google parent Alphabet Inc. \\n        GOOG,\\n        -1.48%\\nGOOGL,\\n        -1.34%,\\n       Broadcom Inc. \\n        AVGO,\\n        -1.23%\\n       and Nvidia Corp. \\n        NVDA,\\n        -1.11%\\n       were among the chattiest. The topic of AI came up 62 times on Alphabet’s early February earnings call, more than double the count from the corresponding call a year before, as the Google parent company looked to assure investors of its AI prowess after rival Microsoft Corp. \\n        MSFT,\\n        -1.06%\\n       invested in OpenAI and integrated its services. See more: Microsoft still has ‘a mountain to climb’ despite AI and ChatGPT efforts“AI is the most profound technology we are working on today,” Alphabet Chief Executive Sundar Pichai said early on in the call, according to a transcript provided by AlphaSense/Sentieo. “Our talented researchers, infrastructure and technology make us extremely well positioned as AI reaches an inflection point.”Executives and analysts mentioned AI 88 times on Nvidia’s late-February earnings call, up from a still-sizable 69 times on the corresponding call in 2022. Chief Financial Officer Colette Kress also called out an “inflection point” for AI. “Generative-AI applications will help almost every industry do more faster,” she said.Read: Nvidia adds to AI hype with new cloud-based service, stock jumps on forecastThere was also a big pickup in AI discussion on Broadcom’s latest earnings call, with participants bringing up the topic 47 times, compared with just seven times in all of the earnings calls the company held in 2022, according to AlphaSense/Sentieo data.“We’re doing $200 million as far as we could estimate of silicon, Ethernet switches and fabric that goes into those AI networks as far as we could identify in hyperscalers,” Broadcom Chief Executive Hock Tan said on the company’s early March call. See more: Broadcom stock moves higher after earnings, forecast beatOn Hewlett Packard Enterprise Co.’s \\n        HPE,\\n        -0.92%\\n       most recent call, AI garnered 34 mentions, versus only four on the call a year earlier. “The traction of our portfolio is the result of our winning strategy, aligned to major market trends around the edge, cloud and AI,” Chief Executive Antonio Neri said. AI came up five times on Box Inc.’s \\n        BOX,\\n        -3.77%\\n       call in early March. Prior to that, neither executives nor analysts had mentioned AI on an earnings call since a single reference in May 2020.“The recent breakthroughs in AI and large language models enable a new universe of use cases that we can also solve for customers,” Chief Executive Aaron Levie said, noting that the company is using the technology to help customers “generate more value from their content.”Box CEO in MarketWatch interview: “We are in the era of AI-first enterprise companies to save time and improve productivity”There were also plenty of mentions by companies outside the technology industry, like from Range Resources Corp. \\n        RRC,\\n        +0.52%,\\n       a natural-gas company. “This past year, Range pilot-tested the use of artificial intelligence in our production operations,” Chief Operating Officer Dennis Degner said. “Working in conjunction with our AI technology provider, an algorithm was created to monitor well production and make automated changes to perimeters within our flow logic that enhance production and reduce downtime.”Those were the first mentions of AI on a Range call since a lone reference in 2017.Opinion:\\xa0If you’re investing in AI stocks, watch out for these revenue and earnings tricksA Dine Brands Global Inc. \\n        DIN,\\n        -2.43%\\n       executive referenced an AI call-center application back in 2021, in what was then the only mention of the technology on one of the Applebee’s parent company’s earnings calls until this March, when Chief Executive John Peyton discussed a use case related to loyalty members. “We’re adding artificial intelligence and predictive analytics to help recommend to them what their next purchase should be,” he said. Michael Manelis, the chief operating officer of apartment manager Equity Residential \\n        EQR,\\n        -2.46%,\\n       managed to sneak in a tangential AI reference in discussing the slower recovery of the Seattle and San Francisco markets. “Both of these cities remain hubs of the tech industry and share an entrepreneurial spirit that will continue to incubate the next big idea, be it AI or other innovations we find changing our lives a decade from now,” he said on the latest earnings call.Equity Residential was chattier about AI on past calls, with executives mentioning in previous years that the company employs artificial intelligence in communications with prospective customers. For more: These 20 AI stocks are expected by analysts to rise up to 85% over the next year Emily Bary is a MarketWatch reporter based in New York.Visit a quote page and your recently viewed tickers will be displayed here.'}, {'Title': 'Please verify you are a human', 'Publish Date': None, 'Content': '\\n                Access to this page has been denied because we believe you are using automation tools to browse the\\n                website.\\n            \\n                This may happen as a result of the following:\\n            \\n                Please make sure that Javascript and cookies are enabled on your browser and that you are not blocking\\n                them from loading.\\n            \\n                Reference ID: #62b76d04-bd5a-11ed-a87c-584a6143594e\\n            \\n                Powered by\\n                PerimeterX\\n                , Inc.\\n            '}, {'Title': 'Why Did Nvidia Stock Climb 19% in February?', 'Publish Date': None, 'Content': \"Founded in 1993 by brothers Tom and David Gardner, The Motley Fool helps millions of people attain financial freedom through our website, podcasts, books, newspaper column, radio show, and premium investing services.Founded in 1993 by brothers Tom and David Gardner, The Motley Fool helps millions of people attain financial freedom through our website, podcasts, books, newspaper column, radio show, and premium investing services.You’re reading a free article with opinions that may differ from The Motley Fool’s Premium Investing Services. Become a Motley Fool member today to get instant access to our top analyst recommendations, in-depth research, investing resources, and more. Learn MoreShares of Nvidia (NVDA -1.11%) rose 18.8% last month, according\\xa0to\\xa0data\\xa0provided\\xa0by\\xa0S&P Global Market Intelligence, due to a strong quarterly earnings report and positive industry news from its peer group. The growth stock rose and fell throughout February due to broader market forces, but its quarterly results sent shares firmly higher during the last week of the month.Nvidia's rival Advanced Micro Devices\\xa0released its quarterly results on the last day of January. AMD indicated significant demand among data center customers, which helped to offset weakness in the consumer PC market. The semiconductor stock climbed following this news, dragging Nvidia higher in the first week of February. Wall Street is excited about Nvidia's long-term opportunity in the data center market, so this news was bullish for both companies. Later in the month, some of those gains were erased as the market tumbled due to rising concerns about high interest rates and economic weakness.Image source: Getty Images.Nvidia managed to break the late-month slump with a strong earnings report. The chipmaker's revenue dropped more than 20%, and it only modestly topped analyst estimates. However, investors were focused on stellar performance from data center and automotive applications, which are considered two long-term growth avenues for Nvidia.The company's artificial intelligence segment also generated some buzz, tying into a tech sector trend that has garnered a ton of attention in recent months. Surging interest in ChatGPT and other AI projects has led to significant movement in many high-profile tech stocks. Investors are eager to identify the early winners and losers as these emerging technologies start to bear fruit, and Nvidia was one of the trend's major beneficiaries.Investors are struggling to set stock prices amid uncertainty around interest rates and global economic growth. It's hard to tell if tougher times lie ahead, or if most of the damage has already been inflicted. That's creating volatility in the market, especially among growth stocks. It's also driving many investors into high-quality stocks that have strong long-term catalysts. Nvidia certainly fits that description, as one of the dominant players in the semiconductor world and an early leader in growth categories including artificial intelligence, automotive, and blockchain.Despite experiencing major weakness in the gaming and PC markets, the stock's forward P/E ratio is still above 50. Investors certainly have to pay a premium for quality. Nonetheless, these technology megatrends seem inevitable, and component suppliers will be among the beneficiaries. Nvidia looks to be one of the most likely candidates to generate major cash flow growth as a result.Ryan Downie has positions in Nvidia. The Motley Fool has positions in and recommends Advanced Micro Devices and Nvidia. The Motley Fool has a disclosure policy.*Average returns of all recommendations since inception. Cost basis and return based on previous market day close.\\nInvest better with The Motley Fool. Get stock recommendations, portfolio guidance, and more from The Motley Fool's premium services.\\nMaking the world smarter, happier, and richer.Market data powered by Xignite.\"}]\n"
     ]
    }
   ],
   "source": [
    "articles = explore_articles(filtered_urls)\n",
    "print(articles)"
   ]
  },
  {
   "cell_type": "code",
   "execution_count": 22,
   "metadata": {},
   "outputs": [],
   "source": [
    "timestamp = datetime.now().strftime(\"%Y-%m-%d_%H-%M-%S\")\n",
    "df = pd.DataFrame(articles)\n",
    "df.to_csv(f'results_{search_term}_{timestamp}.csv', index=False)"
   ]
  },
  {
   "cell_type": "code",
   "execution_count": null,
   "metadata": {},
   "outputs": [],
   "source": []
  }
 ],
 "metadata": {
  "kernelspec": {
   "display_name": "Python 3",
   "language": "python",
   "name": "python3"
  },
  "language_info": {
   "codemirror_mode": {
    "name": "ipython",
    "version": 3
   },
   "file_extension": ".py",
   "mimetype": "text/x-python",
   "name": "python",
   "nbconvert_exporter": "python",
   "pygments_lexer": "ipython3",
   "version": "3.11.1"
  },
  "orig_nbformat": 4,
  "vscode": {
   "interpreter": {
    "hash": "bf76441dbe4afb6b39d8d92fd21c31e10267c5fc21ab228f33891a3330b4175d"
   }
  }
 },
 "nbformat": 4,
 "nbformat_minor": 2
}
