{
 "cells": [
  {
   "cell_type": "code",
   "execution_count": 20,
   "metadata": {},
   "outputs": [],
   "source": [
    "import requests, sys, time\n",
    "from bs4 import BeautifulSoup\n",
    "import pandas as pd"
   ]
  },
  {
   "cell_type": "code",
   "execution_count": 39,
   "metadata": {},
   "outputs": [],
   "source": [
    "request_headers = {\n",
    "    'accept': '*/*',\n",
    "    'accept-encoding': 'gzip, deflate, br',\n",
    "    'accept-language': 'en-US,en;q=0.9',\n",
    "    'referer': 'https://www.google.com',\n",
    "    'user-agent': 'Mozilla/5.0 (Windows NT 10.0; Win64; x64) AppleWebKit/537.36 (KHTML, like Gecko) Chrome/85.0.4183.83 Safari/537.36 Edg/85.0.564.44'\n",
    "}"
   ]
  },
  {
   "cell_type": "code",
   "execution_count": 47,
   "metadata": {},
   "outputs": [],
   "source": [
    "def make_search_query(search_term):\n",
    "    # Format search link\n",
    "    search_format = 'https://finance.yahoo.com/quote/{}?p={}'\n",
    "    search_url = search_format.format(search_term,search_term)\n",
    "    \n",
    "    # Make a request and parse the search page\n",
    "    search_response = requests.get(search_url, request_headers)\n",
    "    search_page_content = search_response.text\n",
    "    search_page = BeautifulSoup(search_page_content, 'html.parser')\n",
    "    tags = search_page.find_all('a', {'class': \"js-content-viewer\"})\n",
    "    \n",
    "    # Extract article links\n",
    "    article_urls = []\n",
    "    for refrence in tags:\n",
    "        article_urls.append(\"https://finance.yahoo.com\" + refrence['href']) \n",
    "\n",
    "    # Filter out videos from the results\n",
    "    article_urls = [x for x in article_urls if \"video\" not in x]\n",
    "    \n",
    "    return article_urls"
   ]
  },
  {
   "cell_type": "code",
   "execution_count": 48,
   "metadata": {},
   "outputs": [
    {
     "name": "stdout",
     "output_type": "stream",
     "text": [
      "['https://finance.yahoo.com/news/3-big-calls-in-the-stock-market-you-might-have-missed-this-week-111913931.html', 'https://finance.yahoo.com/news/nvidia-is-tying-its-future-to-ai-at-just-the-right-time-195455376.html', 'https://finance.yahoo.com/m/cde591e1-c679-38a5-9625-0fe74d3d6234/nvidia-shares-soar-on.html', 'https://finance.yahoo.com/m/9d3c1a3b-0822-317f-89e2-0d953fd736c5/nvidia-and-jensen-huang-are.html', 'https://finance.yahoo.com/m/dd318692-417c-3b5f-ba76-c5700e416279/nvidia-stock-sees-composite.html', 'https://finance.yahoo.com/m/2c7e5ee1-831e-3b20-b598-409c2451c8de/stock-market-sells-off-as-hot.html', 'https://finance.yahoo.com/news/12-best-ai-stocks-2023-174821787.html', 'https://finance.yahoo.com/m/23b570db-735f-3e71-9c5c-07cc30e3aefd/why-nvidia-continued-its-run.html', 'https://finance.yahoo.com/m/e46279a8-4a3a-310d-b1e9-86d9a7ac606e/nvidia-stock-in-buy-range.html', 'https://finance.yahoo.com/news/nvidias-jump-boosts-ai-semiconductor-201500527.html', 'https://finance.yahoo.com/news/company-news-feb-24-2023-141202092.html', 'https://finance.yahoo.com/news/etsys-q4-earnings-miss-estimates-183606392.html', 'https://finance.yahoo.com/news/nvidia-nvda-q4-earnings-sales-131501374.html', 'https://finance.yahoo.com/m/de6b28e8-9d54-3a7e-bbc5-279f67694fdb/dow-jones-futures-fall-.html', 'https://finance.yahoo.com/m/e46279a8-4a3a-310d-b1e9-86d9a7ac606e/nvidia-stock-in-buy-range.html', 'https://finance.yahoo.com/m/284fd0cd-a6ad-3193-a82a-95ef0edb2e47/nvidia-stock-surges-after.html', 'https://finance.yahoo.com/m/01faac0b-3da7-34af-987e-0c34fc00be7f/nvidia-stock-jumps-after.html', 'https://finance.yahoo.com/news/markets-plunge-fed-rate-hike-fears-ftse-closes-in-red-085731591.html']\n"
     ]
    }
   ],
   "source": [
    "print(make_search_query(\"NVDA\"))"
   ]
  },
  {
   "cell_type": "code",
   "execution_count": null,
   "metadata": {},
   "outputs": [],
   "source": []
  }
 ],
 "metadata": {
  "kernelspec": {
   "display_name": "Python 3",
   "language": "python",
   "name": "python3"
  },
  "language_info": {
   "codemirror_mode": {
    "name": "ipython",
    "version": 3
   },
   "file_extension": ".py",
   "mimetype": "text/x-python",
   "name": "python",
   "nbconvert_exporter": "python",
   "pygments_lexer": "ipython3",
   "version": "3.11.1"
  },
  "orig_nbformat": 4,
  "vscode": {
   "interpreter": {
    "hash": "bf76441dbe4afb6b39d8d92fd21c31e10267c5fc21ab228f33891a3330b4175d"
   }
  }
 },
 "nbformat": 4,
 "nbformat_minor": 2
}
