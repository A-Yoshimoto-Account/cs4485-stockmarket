{
 "cells": [
  {
   "cell_type": "code",
   "execution_count": 38,
   "metadata": {},
   "outputs": [],
   "source": [
    "import requests, sys\n",
    "from time import sleep\n",
    "from datetime import datetime\n",
    "from bs4 import BeautifulSoup\n",
    "import pandas as pd\n",
    "\n",
    "from selenium import webdriver\n",
    "from selenium.webdriver.common.keys import Keys\n",
    "from selenium.webdriver.chrome.service import Service\n",
    "from selenium.webdriver.chrome.options import Options\n",
    "from selenium.webdriver.common.by import By\n",
    "from webdriver_manager.chrome import ChromeDriverManager"
   ]
  },
  {
   "cell_type": "code",
   "execution_count": 2,
   "metadata": {},
   "outputs": [],
   "source": [
    "search_term = \"NVDA\"\n",
    "url = f'https://finance.yahoo.com/quote/{search_term}?p={search_term}'"
   ]
  },
  {
   "cell_type": "code",
   "execution_count": 18,
   "metadata": {},
   "outputs": [
    {
     "ename": "NoSuchElementException",
     "evalue": "Message: no such element: Unable to locate element: {\"method\":\"css selector\",\"selector\":\"[name=\"a\"]\"}\n  (Session info: chrome=112.0.5615.87)\nStacktrace:\nBacktrace:\n\tGetHandleVerifier [0x00AEDCE3+50899]\n\t(No symbol) [0x00A7E111]\n\t(No symbol) [0x00985588]\n\t(No symbol) [0x009B08F9]\n\t(No symbol) [0x009B0AFB]\n\t(No symbol) [0x009DF902]\n\t(No symbol) [0x009CB944]\n\t(No symbol) [0x009DE01C]\n\t(No symbol) [0x009CB6F6]\n\t(No symbol) [0x009A7708]\n\t(No symbol) [0x009A886D]\n\tGetHandleVerifier [0x00D53EAE+2566302]\n\tGetHandleVerifier [0x00D892B1+2784417]\n\tGetHandleVerifier [0x00D8327C+2759788]\n\tGetHandleVerifier [0x00B85740+672048]\n\t(No symbol) [0x00A88872]\n\t(No symbol) [0x00A841C8]\n\t(No symbol) [0x00A842AB]\n\t(No symbol) [0x00A771B7]\n\tBaseThreadInitThunk [0x76DD7D69+25]\n\tRtlInitializeExceptionChain [0x77D4B74B+107]\n\tRtlClearBits [0x77D4B6CF+191]\n",
     "output_type": "error",
     "traceback": [
      "\u001b[1;31m---------------------------------------------------------------------------\u001b[0m",
      "\u001b[1;31mNoSuchElementException\u001b[0m                    Traceback (most recent call last)",
      "Cell \u001b[1;32mIn[18], line 8\u001b[0m\n\u001b[0;32m      5\u001b[0m driver\u001b[39m.\u001b[39mget(url)\n\u001b[0;32m      7\u001b[0m \u001b[39mfor\u001b[39;00m i \u001b[39min\u001b[39;00m \u001b[39mrange\u001b[39m(\u001b[39m5\u001b[39m):\n\u001b[1;32m----> 8\u001b[0m     driver\u001b[39m.\u001b[39;49mfind_element(\u001b[39m\"\u001b[39;49m\u001b[39mname\u001b[39;49m\u001b[39m\"\u001b[39;49m, \u001b[39m\"\u001b[39;49m\u001b[39ma\u001b[39;49m\u001b[39m\"\u001b[39;49m)\n\u001b[0;32m      9\u001b[0m     sleep(\u001b[39m2\u001b[39m)\n\u001b[0;32m     10\u001b[0m driver\u001b[39m.\u001b[39mquit()\n",
      "File \u001b[1;32m~\\AppData\\Local\\Packages\\PythonSoftwareFoundation.Python.3.10_qbz5n2kfra8p0\\LocalCache\\local-packages\\Python310\\site-packages\\selenium\\webdriver\\remote\\webdriver.py:831\u001b[0m, in \u001b[0;36mWebDriver.find_element\u001b[1;34m(self, by, value)\u001b[0m\n\u001b[0;32m    828\u001b[0m     by \u001b[39m=\u001b[39m By\u001b[39m.\u001b[39mCSS_SELECTOR\n\u001b[0;32m    829\u001b[0m     value \u001b[39m=\u001b[39m \u001b[39mf\u001b[39m\u001b[39m'\u001b[39m\u001b[39m[name=\u001b[39m\u001b[39m\"\u001b[39m\u001b[39m{\u001b[39;00mvalue\u001b[39m}\u001b[39;00m\u001b[39m\"\u001b[39m\u001b[39m]\u001b[39m\u001b[39m'\u001b[39m\n\u001b[1;32m--> 831\u001b[0m \u001b[39mreturn\u001b[39;00m \u001b[39mself\u001b[39;49m\u001b[39m.\u001b[39;49mexecute(Command\u001b[39m.\u001b[39;49mFIND_ELEMENT, {\u001b[39m\"\u001b[39;49m\u001b[39musing\u001b[39;49m\u001b[39m\"\u001b[39;49m: by, \u001b[39m\"\u001b[39;49m\u001b[39mvalue\u001b[39;49m\u001b[39m\"\u001b[39;49m: value})[\u001b[39m\"\u001b[39m\u001b[39mvalue\u001b[39m\u001b[39m\"\u001b[39m]\n",
      "File \u001b[1;32m~\\AppData\\Local\\Packages\\PythonSoftwareFoundation.Python.3.10_qbz5n2kfra8p0\\LocalCache\\local-packages\\Python310\\site-packages\\selenium\\webdriver\\remote\\webdriver.py:440\u001b[0m, in \u001b[0;36mWebDriver.execute\u001b[1;34m(self, driver_command, params)\u001b[0m\n\u001b[0;32m    438\u001b[0m response \u001b[39m=\u001b[39m \u001b[39mself\u001b[39m\u001b[39m.\u001b[39mcommand_executor\u001b[39m.\u001b[39mexecute(driver_command, params)\n\u001b[0;32m    439\u001b[0m \u001b[39mif\u001b[39;00m response:\n\u001b[1;32m--> 440\u001b[0m     \u001b[39mself\u001b[39;49m\u001b[39m.\u001b[39;49merror_handler\u001b[39m.\u001b[39;49mcheck_response(response)\n\u001b[0;32m    441\u001b[0m     response[\u001b[39m\"\u001b[39m\u001b[39mvalue\u001b[39m\u001b[39m\"\u001b[39m] \u001b[39m=\u001b[39m \u001b[39mself\u001b[39m\u001b[39m.\u001b[39m_unwrap_value(response\u001b[39m.\u001b[39mget(\u001b[39m\"\u001b[39m\u001b[39mvalue\u001b[39m\u001b[39m\"\u001b[39m, \u001b[39mNone\u001b[39;00m))\n\u001b[0;32m    442\u001b[0m     \u001b[39mreturn\u001b[39;00m response\n",
      "File \u001b[1;32m~\\AppData\\Local\\Packages\\PythonSoftwareFoundation.Python.3.10_qbz5n2kfra8p0\\LocalCache\\local-packages\\Python310\\site-packages\\selenium\\webdriver\\remote\\errorhandler.py:245\u001b[0m, in \u001b[0;36mErrorHandler.check_response\u001b[1;34m(self, response)\u001b[0m\n\u001b[0;32m    243\u001b[0m         alert_text \u001b[39m=\u001b[39m value[\u001b[39m\"\u001b[39m\u001b[39malert\u001b[39m\u001b[39m\"\u001b[39m]\u001b[39m.\u001b[39mget(\u001b[39m\"\u001b[39m\u001b[39mtext\u001b[39m\u001b[39m\"\u001b[39m)\n\u001b[0;32m    244\u001b[0m     \u001b[39mraise\u001b[39;00m exception_class(message, screen, stacktrace, alert_text)  \u001b[39m# type: ignore[call-arg]  # mypy is not smart enough here\u001b[39;00m\n\u001b[1;32m--> 245\u001b[0m \u001b[39mraise\u001b[39;00m exception_class(message, screen, stacktrace)\n",
      "\u001b[1;31mNoSuchElementException\u001b[0m: Message: no such element: Unable to locate element: {\"method\":\"css selector\",\"selector\":\"[name=\"a\"]\"}\n  (Session info: chrome=112.0.5615.87)\nStacktrace:\nBacktrace:\n\tGetHandleVerifier [0x00AEDCE3+50899]\n\t(No symbol) [0x00A7E111]\n\t(No symbol) [0x00985588]\n\t(No symbol) [0x009B08F9]\n\t(No symbol) [0x009B0AFB]\n\t(No symbol) [0x009DF902]\n\t(No symbol) [0x009CB944]\n\t(No symbol) [0x009DE01C]\n\t(No symbol) [0x009CB6F6]\n\t(No symbol) [0x009A7708]\n\t(No symbol) [0x009A886D]\n\tGetHandleVerifier [0x00D53EAE+2566302]\n\tGetHandleVerifier [0x00D892B1+2784417]\n\tGetHandleVerifier [0x00D8327C+2759788]\n\tGetHandleVerifier [0x00B85740+672048]\n\t(No symbol) [0x00A88872]\n\t(No symbol) [0x00A841C8]\n\t(No symbol) [0x00A842AB]\n\t(No symbol) [0x00A771B7]\n\tBaseThreadInitThunk [0x76DD7D69+25]\n\tRtlInitializeExceptionChain [0x77D4B74B+107]\n\tRtlClearBits [0x77D4B6CF+191]\n"
     ]
    }
   ],
   "source": [
    "driver_install = ChromeDriverManager().install()\n",
    "service = Service(driver_install)\n",
    "options = Options()"
   ]
  },
  {
   "cell_type": "code",
   "execution_count": 31,
   "metadata": {},
   "outputs": [
    {
     "ename": "AttributeError",
     "evalue": "'WebDriver' object has no attribute 'find_elements_by_xpath'",
     "output_type": "error",
     "traceback": [
      "\u001b[1;31m---------------------------------------------------------------------------\u001b[0m",
      "\u001b[1;31mAttributeError\u001b[0m                            Traceback (most recent call last)",
      "Cell \u001b[1;32mIn[31], line 11\u001b[0m\n\u001b[0;32m      8\u001b[0m        driver\u001b[39m.\u001b[39mexecute_script(\u001b[39m\"\u001b[39m\u001b[39mwindow.scrollBy(0, 250)\u001b[39m\u001b[39m\"\u001b[39m)\n\u001b[0;32m      9\u001b[0m        sleep(\u001b[39m1\u001b[39m)\n\u001b[1;32m---> 11\u001b[0m all_items \u001b[39m=\u001b[39m driver\u001b[39m.\u001b[39;49mfind_elements_by_xpath(\u001b[39m'\u001b[39m\u001b[39m//*[@id=\u001b[39m\u001b[39m\"\u001b[39m\u001b[39mlatestQuoteNewsStream-0-Stream\u001b[39m\u001b[39m\"\u001b[39m\u001b[39m]/ul/li\u001b[39m\u001b[39m'\u001b[39m)\n\u001b[0;32m     13\u001b[0m \u001b[39m#for item in all_items:\u001b[39;00m\n\u001b[0;32m     14\u001b[0m \u001b[39m#    print(item.find_element_by_xpath('.//h3/a').text)\u001b[39;00m\n\u001b[0;32m     15\u001b[0m \u001b[39m#    print(item.find_element_by_xpath('.//p').text)\u001b[39;00m\n\u001b[0;32m     16\u001b[0m \u001b[39m#    print('---')\u001b[39;00m\n\u001b[0;32m     18\u001b[0m \u001b[39mprint\u001b[39m(all_items[\u001b[39m-\u001b[39m\u001b[39m1\u001b[39m]\u001b[39m.\u001b[39mfind_element_by_xpath(\u001b[39m'\u001b[39m\u001b[39m.//h3/a\u001b[39m\u001b[39m'\u001b[39m)\u001b[39m.\u001b[39mtext)\n",
      "\u001b[1;31mAttributeError\u001b[0m: 'WebDriver' object has no attribute 'find_elements_by_xpath'"
     ]
    }
   ],
   "source": [
    "driver = webdriver.Chrome(service=service, options=options)\n",
    "driver.get(url)\n",
    "\n",
    "# give 2 seconds for webpage to lad\n",
    "sleep(2)\n",
    "\n",
    "screen_height = driver.execute_script(\"return window.screen.height;\")   # get the screen height of the web\n",
    "\n",
    "links = []\n",
    "\n",
    "for i in range(10):\n",
    "    links += driver.find_element(\"xpath\", \"//a\")\n",
    "    \n",
    "    \n",
    "    # scroll one screen height each time\n",
    "    driver.execute_script(\"window.scrollTo(0, {screen_height}*{i});\".format(screen_height=screen_height, i=i))  \n",
    "    sleep(1)\n",
    "    # update scroll height each time after scrolled, as the scroll height can change after we scrolled the page\n",
    "    scroll_height = driver.execute_script(\"return document.body.scrollHeight;\")  \n",
    "\n",
    "\n",
    "driver.quit()"
   ]
  },
  {
   "cell_type": "code",
   "execution_count": 53,
   "metadata": {},
   "outputs": [
    {
     "name": "stdout",
     "output_type": "stream",
     "text": [
      "\n"
     ]
    }
   ],
   "source": [
    "driver = webdriver.Chrome(service=service, options=options)\n",
    "driver.get(url)\n",
    "\n",
    "# give 2 seconds for webpage to lad\n",
    "sleep(2)\n",
    "\n",
    "for i in range(20):\n",
    "       driver.execute_script(\"window.scrollBy(0, 250)\")\n",
    "       sleep(1)\n",
    "\n",
    "all_items = driver.find_elements(By.tag, 'a')\n",
    "\n",
    "for item in all_items:\n",
    "       print(item.text)\n",
    "\n",
    "#for item in all_items:\n",
    "#    print(item.find_element_by_xpath('.//h3/a').text)\n",
    "#    print(item.find_element_by_xpath('.//p').text)\n",
    "#    print('---')\n",
    "\n",
    "#print(all_items[-1].driver.find_element(\"xpath\", './/h3/a').text)\n",
    "#print(all_items[-1].driver.find_element(\"xpath\",'.//p').text)\n",
    "\n",
    "driver.quit()"
   ]
  },
  {
   "cell_type": "code",
   "execution_count": 75,
   "metadata": {},
   "outputs": [
    {
     "name": "stdout",
     "output_type": "stream",
     "text": [
      "['https://finance.yahoo.com/news/stocks-soar-ahead-of-bank-earnings-stock-market-news-today-200245142.html?.tsrc=fin-notif', 'https://finance.yahoo.com/news/biden-moves-to-expand-obamacare-and-medicaid-for-dreamers-154055606.html?.tsrc=fin-notif', 'https://finance.yahoo.com/news/mortgage-rates-drop-slightly-is-it-time-to-buy-160117289.html?.tsrc=fin-notif', 'https://finance.yahoo.com/news/stocks-rise-as-investors-eye-claims-data-bank-earnings-stock-market-news-today-134406481.html?.tsrc=fin-notif', 'https://finance.yahoo.com/news/amazon-ceo-andy-jassy-warns-about-short-term-headwinds-in-key-aws-business-112727233.html?.tsrc=fin-notif', 'https://finance.yahoo.com/news/stock-market-news-today-live-updates-april-12-2023-115410661.html?.tsrc=fin-notif', 'https://finance.yahoo.com/news/fed-minutes-detail-debate-wake-100811163.html?.tsrc=fin-notif', 'https://finance.yahoo.com/news/inflation-egg-and-other-grocery-prices-start-to-crack-133924979.html?.tsrc=fin-notif', 'https://finance.yahoo.com/news/buffett-nobody-is-going-to-lose-money-on-a-deposit-in-a-us-bank-132035869.html?.tsrc=fin-notif', 'https://finance.yahoo.com/news/stock-market-news-today-live-updates-april-12-2023-115410661.html?.tsrc=fin-notif', 'https://finance.yahoo.com/news/inflation-cpi-march-april-12-2023-172921113.html?.tsrc=fin-notif', 'https://finance.yahoo.com/news/inflation-cpi-march-april-12-2023-172921113.html?.tsrc=fin-notif', 'https://finance.yahoo.com/news/stock-market-news-today-live-updates-april-11-2023-115735469.html?.tsrc=fin-notif', 'https://finance.yahoo.com/news/small-business-confidence-drops-as-inflation-weighs-on-outlook-151102617.html?.tsrc=fin-notif', 'https://finance.yahoo.com/news/stock-market-news-today-live-updates-april-11-2023-115735469.html?.tsrc=fin-notif', 'https://finance.yahoo.com/news/imf-warns-of-heightened-recession-risk-slightly-lowers-global-growth-outlook-130037765.html?.tsrc=fin-notif', 'https://finance.yahoo.com/news/stock-market-news-today-live-updates-april-10-2023-121105758.html?.tsrc=fin-notif', 'https://finance.yahoo.com/news/masters-winner-jon-rahm-is-sponsored-by-a-uniquely-positioned-stock-analyst-114723613.html?.tsrc=fin-notif', 'https://finance.yahoo.com/news/stock-market-news-today-live-updates-april-10-2023-121105758.html?.tsrc=fin-notif', 'https://finance.yahoo.com/news/it-might-be-time-to-worry-about-a-recession-again-morning-brief-123040956.html?.tsrc=fin-notif', 'https://finance.yahoo.com/news/housing-market-data-suggests-sectors-downturn-coming-to-an-end-202631499.html?.tsrc=fin-notif', 'https://finance.yahoo.com/news/3-things-you-may-have-missed-in-markets-amid-weak-economic-data-100008722.html?.tsrc=fin-notif', 'https://finance.yahoo.com/news/the-us-economy-is-still-creating-problems-for-the-fed-161620642.html?.tsrc=fin-notif', 'https://finance.yahoo.com/news/cryptocurrencies-continue-rebound-as-some-say-crypto-is-through-the-bear-market-134642433.html?.tsrc=fin-notif', 'https://finance.yahoo.com/news/jobs-report-march-data-to-show-hiring-slowdown-growth-likely-too-high-for-fed-211113806.html?.tsrc=fin-notif', 'https://finance.yahoo.com/news/stock-market-news-today-live-updates-april-6-2023-121212956.html?.tsrc=fin-notif', 'https://finance.yahoo.com/news/the-irs-lays-out-where-the-first-chunk-of-its-new-80-billion-in-funding-will-go-180333094.html?.tsrc=fin-notif', 'https://finance.yahoo.com/news/mortgage-rates-fall-again-but-other-obstacles-remain-for-homebuyers-160008104.html?.tsrc=fin-notif', 'https://finance.yahoo.com/news/imf-head-warns-world-economy-is-set-for-weakest-near-term-growth-since-1990-144205510.html?.tsrc=fin-notif', 'https://finance.yahoo.com/news/stock-market-news-today-live-updates-april-6-2023-121212956.html?.tsrc=fin-notif', 'https://finance.yahoo.com/news/stock-market-news-today-live-updates-april-5-2023-115922526.html?.tsrc=fin-notif', 'https://finance.yahoo.com/news/western-alliance-stock-pares-some-losses-after-reassuring-investors-about-deposits-160554850.html?.tsrc=fin-notif', 'https://finance.yahoo.com/news/gold-inching-toward-all-time-highs-as-investors-pile-into-the-safe-haven-151641799.html?.tsrc=fin-notif', 'https://finance.yahoo.com/news/stock-market-news-today-live-updates-april-5-2023-115922526.html?.tsrc=fin-notif', 'https://finance.yahoo.com/news/stock-market-news-today-live-updates-april-4-2023-120152032.html?.tsrc=fin-notif', 'https://finance.yahoo.com/news/job-opening-data-jolts-powell-fed-better-balance-170515210.html?.tsrc=fin-notif', 'https://finance.yahoo.com/news/gas-prices-could-head-toward-4-per-gallon-amid-opec-production-cut-says-analyst-160832757.html?.tsrc=fin-notif', 'https://finance.yahoo.com/news/jpms-dimon-lets-avoid-whack-a-mole-response-to-svb-banking-crisis-131843894.html?.tsrc=fin-notif', 'https://finance.yahoo.com/news/stock-market-news-today-live-updates-april-4-2023-120152032.html?.tsrc=fin-notif', 'https://finance.yahoo.com/news/the-wwe-endeavor-merger-unlocks-5-areas-of-significant-potential-bofa-111155880.html?.tsrc=fin-notif', 'https://finance.yahoo.com/news/bob-iger-calls-desantis-policies-anti-business-as-tensions-between-disney-and-florida-grow-200201487.html?.tsrc=fin-notif', 'https://finance.yahoo.com/news/oil-surges-dow-rallies-tech-lags-to-start-second-quarter-stock-market-news-today-200122824.html?.tsrc=fin-notif', 'https://finance.yahoo.com/news/oil-price-forecasts-rise-on-wall-street-as-opec-cuts-signal-geopolitical-posturing-150058073.html?.tsrc=fin-notif', 'https://finance.yahoo.com/news/how-warren-buffett-could-steal-the-show-in-the-second-quarter-morning-brief-100034766.html?.tsrc=fin-notif', 'https://finance.yahoo.com/news/oil-pops-stocks-mixed-as-second-quarter-gets-underway-stock-market-news-today-133311886.html?.tsrc=fin-notif', 'https://finance.yahoo.com/news/wwe-and-ufc-owner-endeavor-agree-to-massive-media-merger-110951206.html?.tsrc=fin-notif', 'https://finance.yahoo.com/news/workers-are-largely-happy-with-their-jobs--but-not-their-paychecks-survey-finds-141243225.html?.tsrc=fin-notif', 'https://finance.yahoo.com/news/jobs-report-ushers-in-a-new-quarter-what-to-watch-this-week-135847353.html?.tsrc=fin-notif', 'https://finance.yahoo.com/news/30-jobs-cut-enlarged-ubs-073608561.html?.tsrc=fin-notif', 'https://finance.yahoo.com/news/americans-lost-a-lot-of-financial-ground-last-year-is-the-worst-over-185952078.html?.tsrc=fin-notif', 'https://finance.yahoo.com/news/', 'https://finance.yahoo.com/m/b671f430-2e8b-3c5d-9f74-efefddd46ebe/is-nvidia-stock-a-buy-now-.html', 'https://finance.yahoo.com/news/nvidia-nvda-introduces-ai-enabled-123212309.html', 'https://finance.yahoo.com/news/nvidia-enhances-mid-range-video-130304278.html', 'https://finance.yahoo.com/news/nvidia-rtx-4070-review-the-new-1440p-gaming-leader-130010874.html', 'https://finance.yahoo.com/m/9f504dcc-0c41-3eba-91f4-522b746dc9a8/investors-race-to-own-12.html', 'https://finance.yahoo.com/news/whats-chip-etfs-best-quarter-120012780.html', 'https://finance.yahoo.com/m/007cf501-8e9a-33b0-ad0e-d81b90f2e14a/intel-is-using-tsmc-for-new.html', 'https://finance.yahoo.com/m/50bf4eef-1e8e-3e36-8c86-2ed006e77b0c/prediction-2-nasdaq-stocks.html', 'https://finance.yahoo.com/m/5da2f87b-c8dc-3582-936a-a600dfd6ec1d/computer-sales-are-crashing.html', 'https://finance.yahoo.com/news/nvidias-latest-gpu-sets-benchmark-203646296.html', 'https://finance.yahoo.com/news/tech-stocks-rally-as-investors-ask-when-do-things-start-looking-good-again-190001472.html', 'https://finance.yahoo.com/news/senator-calls-investigation-reuters-facial-182023813.html', 'https://finance.yahoo.com/m/9d9834ae-8395-3993-9a24-b7dd17889217/is-ai-the-next-crypto-like.html', 'https://finance.yahoo.com/m/09e54c45-99d0-3d25-929b-af9f879fc715/amd-stock-bear-vs-bull.html', 'https://finance.yahoo.com/m/0d68216d-b783-3f26-b541-d05710ca2ad1/is-meta-dominating-the-ai.html', 'https://finance.yahoo.com/news/nvidia-enhances-mid-range-video-130304540.html', 'https://finance.yahoo.com/news/nvidia-nvda-introduces-ai-enabled-123212309.html', 'https://finance.yahoo.com/news/nvidia-rtx-4070-review-the-new-1440p-gaming-leader-130010874.html', 'https://finance.yahoo.com/news/nvidia-drops-new-much-anticipated-graphics-card-130036289.html', 'https://finance.yahoo.com/news/nvidia-enhances-mid-range-video-130304278.html', 'https://finance.yahoo.com/news/nvidias-latest-gpu-sets-benchmark-203646296.html', 'https://finance.yahoo.com/news/nvidia-geforce-rtx-4070-brings-130000711.html', 'https://finance.yahoo.com/news/nvidia-nvda-introduces-ai-enabled-123212309.html', 'https://finance.yahoo.com/news/nvidia-rtx-4070-review-the-new-1440p-gaming-leader-130010874.html', 'https://finance.yahoo.com/news/guide-metaverse-etf-investing-121612340.html', 'https://finance.yahoo.com/m/59060dd8-8e9f-35da-8c23-f99ddf8f55ac/3-things-about-nvidia-that.html', 'https://finance.yahoo.com/m/4def3cd7-2850-303d-be5d-87ea602841e7/3-genius-investments-that.html', 'https://finance.yahoo.com/m/eeaff83c-3878-3475-bc21-1598d75a1876/investing-in-tech-stocks-1.html', 'https://finance.yahoo.com/news/nvidia-nvda-stock-moves-1-214509657.html', 'https://finance.yahoo.com/m/c9a2b198-a580-31ed-841c-f530c54e0c0a/nvidia-and-amd-stock-have.html', 'https://finance.yahoo.com/news/surging-tech-stocks-run-earnings-134647313.html', 'https://finance.yahoo.com/news/oracle-orcl-owned-cerner-enviza-124512032.html', 'https://finance.yahoo.com/m/c93c08d1-e171-3283-9c95-315bfa5ccba7/is-google-challenging-nvidia.html', 'https://finance.yahoo.com/news/10-best-edge-computing-stocks-103006542.html', 'https://finance.yahoo.com/m/ed9e57f3-2aa2-3ced-b581-b5fe553e085a/1-artificial-intelligence.html', 'https://finance.yahoo.com/m/e5e1cd62-5e64-3368-8d9a-79f76602a448/here-s-why-nvidia-shares.html', 'https://finance.yahoo.com/news/zacks-investment-ideas-feature-highlights-121712794.html', 'https://finance.yahoo.com/m/ded6b0a1-015a-3584-9e8d-cd3c12535718/nvidia-stock-hit-its-profit.html', 'https://finance.yahoo.com/news/zacks-approach-beat-market-nvidia-112511879.html', 'https://finance.yahoo.com/m/dc400846-465c-3cb5-b7e2-f85ec0a90bd9/stock-pickers-failed-to-take.html', 'https://finance.yahoo.com/news/heres-whats-concerning-nvidias-nasdaq-140024619.html', 'https://finance.yahoo.com/m/5c1b57e9-9196-335a-ab72-5ed9e79f0eeb/prediction-2-growth-stocks.html', 'https://finance.yahoo.com/m/7cd88294-b98a-3412-adae-c8a9c73ff728/1-chip-stock-not-named-nvidia.html', 'https://finance.yahoo.com/m/6a8a0a68-d743-3e93-9044-c2d160afb4c9/a-bull-market-is-coming-2.html', 'https://finance.yahoo.com/m/69934a0a-d2c5-3b5f-8e90-acbae39e49d9/if-i-had-to-allocate-1-000.html', 'https://finance.yahoo.com/news/7-undervalued-semiconductor-stocks-buy-194701720.html', 'https://finance.yahoo.com/news/invest-boom-11-stocks-4-154500787.html', 'https://finance.yahoo.com/m/684c930d-1475-3adc-b013-ae604c056ebc/ai-stocks-to-watch-as-big.html', 'https://finance.yahoo.com/m/865fde2e-7087-35ff-b0d2-0856a7c46c23/is-amd-stock-a-buy-now-.html', 'https://finance.yahoo.com/m/6cf2c787-7bd4-318f-a154-0c8f220d0afe/manager-of-top-t-rowe-price.html', 'https://finance.yahoo.com/m/aa5a456a-42a8-3944-ae83-1d9ce06b0aca/meta-s-bet-on-generative-ai.html', 'https://finance.yahoo.com/news/nvidia-stock-undeniable-momentum-pick-100008334.html', 'https://finance.yahoo.com/m/46aaf509-08e8-30b1-a0b8-c54f34157fbd/the-ultimate-growth-stocks-to.html', 'https://finance.yahoo.com/m/dc056f04-be0f-36c6-be55-bad4350c5224/amd-stock-presents-a.html', 'https://finance.yahoo.com/news/3-best-metaverse-stocks-buy-172723385.html', 'https://finance.yahoo.com/m/21d57627-9f9b-3a26-a60c-c3db39d8dda9/nvidia-leads-ai-race-latest.html', 'https://finance.yahoo.com/m/e712d464-6d37-3e80-be10-46e9bf38bbce/google-owner-alphabet-says.html', 'https://finance.yahoo.com/m/1ed83b36-d0e3-3443-be32-5b8bd499d2c0/is-google-challenging-nvidia-.html', 'https://finance.yahoo.com/m/582c5619-5890-3ab5-9b27-f662a005e6fd/alphabet-says-google-s-latest.html', 'https://finance.yahoo.com/news/why-speculative-ai-stocks-like-c3ai-and-bigbearai-are-seeing-monster-volatility-123221071.html', 'https://finance.yahoo.com/m/296eb31d-e7ff-3105-9de5-b9ff1bde778f/dow-jones-rises-but-leaders.html', 'https://finance.yahoo.com/m/9f62cf92-cb7d-3e2f-93a4-491b15afebe3/dow-jones-futures-s-p-500.html', 'https://finance.yahoo.com/m/fe66b40c-8c59-3103-9b14-70371ba91eb1/dow-jones-futures-rise-as.html', 'https://finance.yahoo.com/m/ada8e764-40d9-3055-9d21-f1294fb96d71/gold%E2%80%99s-been-on-a-tear-.html', 'https://finance.yahoo.com/news/7-dividend-paying-large-cap-103042837.html', 'https://finance.yahoo.com/m/4fa7c6fa-deba-3acb-89a0-f264a3eb20eb/better-ai-stock-nvidia-vs-.html', 'https://finance.yahoo.com/m/a838a519-663c-3d33-8022-b14e27bb32aa/these-5-consumer-trends-could.html', 'https://finance.yahoo.com/m/a854356f-5085-37bc-965e-7bcdd92c18bb/ai%E2%80%99s-other-winners-and-the.html', 'https://finance.yahoo.com/news/qualcomm-nvidia-spar-top-spot-175244511.html', 'https://finance.yahoo.com/news/qualcomm-nvidia-spar-top-spot-174659019.html', 'https://finance.yahoo.com/news/googles-bard-vs-microsoft-backed-140424897.html', 'https://finance.yahoo.com/news/ex-intel-chief-architect-explores-140154746.html', 'https://finance.yahoo.com/m/35bbd6d7-12a5-3cf3-931f-998db2b1f457/2-stocks-that-outperformed.html', 'https://finance.yahoo.com/m/a39ab1ae-a85c-3532-bf21-88a97bda2c90/apple-intel-and-nvidia.html', 'https://finance.yahoo.com/news/midday-movers-johnson-johnson-conagra-134826542.html', 'https://finance.yahoo.com/m/4fd99f27-d0a3-37ab-86aa-c58ea3834150/could-ai-help-push-nvidia-s.html', 'https://finance.yahoo.com/news/3-thrilling-ai-stocks-aggressive-110015759.html', 'https://finance.yahoo.com/m/132d9431-75e2-3a0e-90f8-bb6969ef1a48/ai-could-have-a-7-trillion.html']\n"
     ]
    }
   ],
   "source": [
    "driver = webdriver.Chrome(service=service, options=options)\n",
    "driver.get(url)\n",
    "\n",
    "# give 2 seconds for webpage to lad\n",
    "sleep(2)\n",
    "\n",
    "for i in range (10):\n",
    "    driver.execute_script(\"window.scrollTo(0, {screen_height}*{i});\".format(screen_height=screen_height, i=i))\n",
    "    sleep(1)\n",
    "\n",
    "all_items=driver.find_elements(By.TAG_NAME,\"a\")\n",
    "\n",
    "direct_links = []\n",
    "redirect_links = []\n",
    "# traverse list\n",
    "for item in all_items:\n",
    "   # get_attribute() to get all href\n",
    "   link = item.get_attribute('href')\n",
    "   if 'https://finance.yahoo.com/news/' in link:\n",
    "       direct_links.append(link)\n",
    "   elif 'https://finance.yahoo.com/m/' in link:\n",
    "        redirect_links.append(link)\n",
    "    \n",
    "driver.quit()\n"
   ]
  },
  {
   "cell_type": "code",
   "execution_count": 82,
   "metadata": {},
   "outputs": [
    {
     "name": "stdout",
     "output_type": "stream",
     "text": [
      "# of direct links   : 87\n",
      "# of redirects      : 42\n",
      "-------------------------\n",
      "# of total links    : 129\n"
     ]
    }
   ],
   "source": [
    "print(f'# of direct links   : {len(direct_links)}')\n",
    "print(f'# of redirects      : {len(redirect_links)}')\n",
    "print(f'-------------------------')\n",
    "print(f'# of total links    : {len(redirect_links) + len(direct_links)}')"
   ]
  },
  {
   "cell_type": "code",
   "execution_count": null,
   "metadata": {},
   "outputs": [],
   "source": []
  }
 ],
 "metadata": {
  "kernelspec": {
   "display_name": "Python 3",
   "language": "python",
   "name": "python3"
  },
  "language_info": {
   "codemirror_mode": {
    "name": "ipython",
    "version": 3
   },
   "file_extension": ".py",
   "mimetype": "text/x-python",
   "name": "python",
   "nbconvert_exporter": "python",
   "pygments_lexer": "ipython3",
   "version": "3.10.10"
  },
  "orig_nbformat": 4,
  "vscode": {
   "interpreter": {
    "hash": "470d22a4b3e1dc4b142377dc942a81b756182d283d33f2ed7cf9b76084efbf27"
   }
  }
 },
 "nbformat": 4,
 "nbformat_minor": 2
}
