{
 "cells": [
  {
   "cell_type": "code",
   "execution_count": 38,
   "metadata": {},
   "outputs": [],
   "source": [
    "import requests, sys\n",
    "from time import sleep\n",
    "from datetime import datetime\n",
    "from bs4 import BeautifulSoup\n",
    "import pandas as pd\n",
    "\n",
    "from selenium import webdriver\n",
    "from selenium.webdriver.common.keys import Keys\n",
    "from selenium.webdriver.chrome.service import Service\n",
    "from selenium.webdriver.chrome.options import Options\n",
    "from selenium.webdriver.common.by import By\n",
    "from webdriver_manager.chrome import ChromeDriverManager"
   ]
  },
  {
   "cell_type": "code",
   "execution_count": 2,
   "metadata": {},
   "outputs": [],
   "source": [
    "search_term = \"NVDA\"\n",
    "url = f'https://finance.yahoo.com/quote/{search_term}?p={search_term}'"
   ]
  },
  {
   "cell_type": "code",
   "execution_count": 18,
   "metadata": {},
   "outputs": [
    {
     "ename": "NoSuchElementException",
     "evalue": "Message: no such element: Unable to locate element: {\"method\":\"css selector\",\"selector\":\"[name=\"a\"]\"}\n  (Session info: chrome=112.0.5615.87)\nStacktrace:\nBacktrace:\n\tGetHandleVerifier [0x00AEDCE3+50899]\n\t(No symbol) [0x00A7E111]\n\t(No symbol) [0x00985588]\n\t(No symbol) [0x009B08F9]\n\t(No symbol) [0x009B0AFB]\n\t(No symbol) [0x009DF902]\n\t(No symbol) [0x009CB944]\n\t(No symbol) [0x009DE01C]\n\t(No symbol) [0x009CB6F6]\n\t(No symbol) [0x009A7708]\n\t(No symbol) [0x009A886D]\n\tGetHandleVerifier [0x00D53EAE+2566302]\n\tGetHandleVerifier [0x00D892B1+2784417]\n\tGetHandleVerifier [0x00D8327C+2759788]\n\tGetHandleVerifier [0x00B85740+672048]\n\t(No symbol) [0x00A88872]\n\t(No symbol) [0x00A841C8]\n\t(No symbol) [0x00A842AB]\n\t(No symbol) [0x00A771B7]\n\tBaseThreadInitThunk [0x76DD7D69+25]\n\tRtlInitializeExceptionChain [0x77D4B74B+107]\n\tRtlClearBits [0x77D4B6CF+191]\n",
     "output_type": "error",
     "traceback": [
      "\u001b[1;31m---------------------------------------------------------------------------\u001b[0m",
      "\u001b[1;31mNoSuchElementException\u001b[0m                    Traceback (most recent call last)",
      "Cell \u001b[1;32mIn[18], line 8\u001b[0m\n\u001b[0;32m      5\u001b[0m driver\u001b[39m.\u001b[39mget(url)\n\u001b[0;32m      7\u001b[0m \u001b[39mfor\u001b[39;00m i \u001b[39min\u001b[39;00m \u001b[39mrange\u001b[39m(\u001b[39m5\u001b[39m):\n\u001b[1;32m----> 8\u001b[0m     driver\u001b[39m.\u001b[39;49mfind_element(\u001b[39m\"\u001b[39;49m\u001b[39mname\u001b[39;49m\u001b[39m\"\u001b[39;49m, \u001b[39m\"\u001b[39;49m\u001b[39ma\u001b[39;49m\u001b[39m\"\u001b[39;49m)\n\u001b[0;32m      9\u001b[0m     sleep(\u001b[39m2\u001b[39m)\n\u001b[0;32m     10\u001b[0m driver\u001b[39m.\u001b[39mquit()\n",
      "File \u001b[1;32m~\\AppData\\Local\\Packages\\PythonSoftwareFoundation.Python.3.10_qbz5n2kfra8p0\\LocalCache\\local-packages\\Python310\\site-packages\\selenium\\webdriver\\remote\\webdriver.py:831\u001b[0m, in \u001b[0;36mWebDriver.find_element\u001b[1;34m(self, by, value)\u001b[0m\n\u001b[0;32m    828\u001b[0m     by \u001b[39m=\u001b[39m By\u001b[39m.\u001b[39mCSS_SELECTOR\n\u001b[0;32m    829\u001b[0m     value \u001b[39m=\u001b[39m \u001b[39mf\u001b[39m\u001b[39m'\u001b[39m\u001b[39m[name=\u001b[39m\u001b[39m\"\u001b[39m\u001b[39m{\u001b[39;00mvalue\u001b[39m}\u001b[39;00m\u001b[39m\"\u001b[39m\u001b[39m]\u001b[39m\u001b[39m'\u001b[39m\n\u001b[1;32m--> 831\u001b[0m \u001b[39mreturn\u001b[39;00m \u001b[39mself\u001b[39;49m\u001b[39m.\u001b[39;49mexecute(Command\u001b[39m.\u001b[39;49mFIND_ELEMENT, {\u001b[39m\"\u001b[39;49m\u001b[39musing\u001b[39;49m\u001b[39m\"\u001b[39;49m: by, \u001b[39m\"\u001b[39;49m\u001b[39mvalue\u001b[39;49m\u001b[39m\"\u001b[39;49m: value})[\u001b[39m\"\u001b[39m\u001b[39mvalue\u001b[39m\u001b[39m\"\u001b[39m]\n",
      "File \u001b[1;32m~\\AppData\\Local\\Packages\\PythonSoftwareFoundation.Python.3.10_qbz5n2kfra8p0\\LocalCache\\local-packages\\Python310\\site-packages\\selenium\\webdriver\\remote\\webdriver.py:440\u001b[0m, in \u001b[0;36mWebDriver.execute\u001b[1;34m(self, driver_command, params)\u001b[0m\n\u001b[0;32m    438\u001b[0m response \u001b[39m=\u001b[39m \u001b[39mself\u001b[39m\u001b[39m.\u001b[39mcommand_executor\u001b[39m.\u001b[39mexecute(driver_command, params)\n\u001b[0;32m    439\u001b[0m \u001b[39mif\u001b[39;00m response:\n\u001b[1;32m--> 440\u001b[0m     \u001b[39mself\u001b[39;49m\u001b[39m.\u001b[39;49merror_handler\u001b[39m.\u001b[39;49mcheck_response(response)\n\u001b[0;32m    441\u001b[0m     response[\u001b[39m\"\u001b[39m\u001b[39mvalue\u001b[39m\u001b[39m\"\u001b[39m] \u001b[39m=\u001b[39m \u001b[39mself\u001b[39m\u001b[39m.\u001b[39m_unwrap_value(response\u001b[39m.\u001b[39mget(\u001b[39m\"\u001b[39m\u001b[39mvalue\u001b[39m\u001b[39m\"\u001b[39m, \u001b[39mNone\u001b[39;00m))\n\u001b[0;32m    442\u001b[0m     \u001b[39mreturn\u001b[39;00m response\n",
      "File \u001b[1;32m~\\AppData\\Local\\Packages\\PythonSoftwareFoundation.Python.3.10_qbz5n2kfra8p0\\LocalCache\\local-packages\\Python310\\site-packages\\selenium\\webdriver\\remote\\errorhandler.py:245\u001b[0m, in \u001b[0;36mErrorHandler.check_response\u001b[1;34m(self, response)\u001b[0m\n\u001b[0;32m    243\u001b[0m         alert_text \u001b[39m=\u001b[39m value[\u001b[39m\"\u001b[39m\u001b[39malert\u001b[39m\u001b[39m\"\u001b[39m]\u001b[39m.\u001b[39mget(\u001b[39m\"\u001b[39m\u001b[39mtext\u001b[39m\u001b[39m\"\u001b[39m)\n\u001b[0;32m    244\u001b[0m     \u001b[39mraise\u001b[39;00m exception_class(message, screen, stacktrace, alert_text)  \u001b[39m# type: ignore[call-arg]  # mypy is not smart enough here\u001b[39;00m\n\u001b[1;32m--> 245\u001b[0m \u001b[39mraise\u001b[39;00m exception_class(message, screen, stacktrace)\n",
      "\u001b[1;31mNoSuchElementException\u001b[0m: Message: no such element: Unable to locate element: {\"method\":\"css selector\",\"selector\":\"[name=\"a\"]\"}\n  (Session info: chrome=112.0.5615.87)\nStacktrace:\nBacktrace:\n\tGetHandleVerifier [0x00AEDCE3+50899]\n\t(No symbol) [0x00A7E111]\n\t(No symbol) [0x00985588]\n\t(No symbol) [0x009B08F9]\n\t(No symbol) [0x009B0AFB]\n\t(No symbol) [0x009DF902]\n\t(No symbol) [0x009CB944]\n\t(No symbol) [0x009DE01C]\n\t(No symbol) [0x009CB6F6]\n\t(No symbol) [0x009A7708]\n\t(No symbol) [0x009A886D]\n\tGetHandleVerifier [0x00D53EAE+2566302]\n\tGetHandleVerifier [0x00D892B1+2784417]\n\tGetHandleVerifier [0x00D8327C+2759788]\n\tGetHandleVerifier [0x00B85740+672048]\n\t(No symbol) [0x00A88872]\n\t(No symbol) [0x00A841C8]\n\t(No symbol) [0x00A842AB]\n\t(No symbol) [0x00A771B7]\n\tBaseThreadInitThunk [0x76DD7D69+25]\n\tRtlInitializeExceptionChain [0x77D4B74B+107]\n\tRtlClearBits [0x77D4B6CF+191]\n"
     ]
    }
   ],
   "source": [
    "driver_install = ChromeDriverManager().install()\n",
    "service = Service(driver_install)\n",
    "options = Options()"
   ]
  },
  {
   "cell_type": "code",
   "execution_count": 31,
   "metadata": {},
   "outputs": [
    {
     "ename": "AttributeError",
     "evalue": "'WebDriver' object has no attribute 'find_elements_by_xpath'",
     "output_type": "error",
     "traceback": [
      "\u001b[1;31m---------------------------------------------------------------------------\u001b[0m",
      "\u001b[1;31mAttributeError\u001b[0m                            Traceback (most recent call last)",
      "Cell \u001b[1;32mIn[31], line 11\u001b[0m\n\u001b[0;32m      8\u001b[0m        driver\u001b[39m.\u001b[39mexecute_script(\u001b[39m\"\u001b[39m\u001b[39mwindow.scrollBy(0, 250)\u001b[39m\u001b[39m\"\u001b[39m)\n\u001b[0;32m      9\u001b[0m        sleep(\u001b[39m1\u001b[39m)\n\u001b[1;32m---> 11\u001b[0m all_items \u001b[39m=\u001b[39m driver\u001b[39m.\u001b[39;49mfind_elements_by_xpath(\u001b[39m'\u001b[39m\u001b[39m//*[@id=\u001b[39m\u001b[39m\"\u001b[39m\u001b[39mlatestQuoteNewsStream-0-Stream\u001b[39m\u001b[39m\"\u001b[39m\u001b[39m]/ul/li\u001b[39m\u001b[39m'\u001b[39m)\n\u001b[0;32m     13\u001b[0m \u001b[39m#for item in all_items:\u001b[39;00m\n\u001b[0;32m     14\u001b[0m \u001b[39m#    print(item.find_element_by_xpath('.//h3/a').text)\u001b[39;00m\n\u001b[0;32m     15\u001b[0m \u001b[39m#    print(item.find_element_by_xpath('.//p').text)\u001b[39;00m\n\u001b[0;32m     16\u001b[0m \u001b[39m#    print('---')\u001b[39;00m\n\u001b[0;32m     18\u001b[0m \u001b[39mprint\u001b[39m(all_items[\u001b[39m-\u001b[39m\u001b[39m1\u001b[39m]\u001b[39m.\u001b[39mfind_element_by_xpath(\u001b[39m'\u001b[39m\u001b[39m.//h3/a\u001b[39m\u001b[39m'\u001b[39m)\u001b[39m.\u001b[39mtext)\n",
      "\u001b[1;31mAttributeError\u001b[0m: 'WebDriver' object has no attribute 'find_elements_by_xpath'"
     ]
    }
   ],
   "source": [
    "driver = webdriver.Chrome(service=service, options=options)\n",
    "driver.get(url)\n",
    "\n",
    "# give 2 seconds for webpage to lad\n",
    "sleep(2)\n",
    "\n",
    "screen_height = driver.execute_script(\"return window.screen.height;\")   # get the screen height of the web\n",
    "\n",
    "links = []\n",
    "\n",
    "for i in range(10):\n",
    "    links += driver.find_element(\"xpath\", \"//a\")\n",
    "    \n",
    "    \n",
    "    # scroll one screen height each time\n",
    "    driver.execute_script(\"window.scrollTo(0, {screen_height}*{i});\".format(screen_height=screen_height, i=i))  \n",
    "    sleep(1)\n",
    "    # update scroll height each time after scrolled, as the scroll height can change after we scrolled the page\n",
    "    scroll_height = driver.execute_script(\"return document.body.scrollHeight;\")  \n",
    "\n",
    "\n",
    "driver.quit()"
   ]
  },
  {
   "cell_type": "code",
   "execution_count": 53,
   "metadata": {},
   "outputs": [
    {
     "name": "stdout",
     "output_type": "stream",
     "text": [
      "\n"
     ]
    }
   ],
   "source": [
    "driver = webdriver.Chrome(service=service, options=options)\n",
    "driver.get(url)\n",
    "\n",
    "# give 2 seconds for webpage to lad\n",
    "sleep(2)\n",
    "\n",
    "for i in range(20):\n",
    "       driver.execute_script(\"window.scrollBy(0, 250)\")\n",
    "       sleep(1)\n",
    "\n",
    "all_items = driver.find_elements(By.tag, 'a')\n",
    "\n",
    "for item in all_items:\n",
    "       print(item.text)\n",
    "\n",
    "#for item in all_items:\n",
    "#    print(item.find_element_by_xpath('.//h3/a').text)\n",
    "#    print(item.find_element_by_xpath('.//p').text)\n",
    "#    print('---')\n",
    "\n",
    "#print(all_items[-1].driver.find_element(\"xpath\", './/h3/a').text)\n",
    "#print(all_items[-1].driver.find_element(\"xpath\",'.//p').text)\n",
    "\n",
    "driver.quit()"
   ]
  },
  {
   "cell_type": "code",
   "execution_count": 58,
   "metadata": {},
   "outputs": [],
   "source": [
    "driver = webdriver.Chrome(service=service, options=options)\n",
    "driver.get(url)\n",
    "\n",
    "# give 2 seconds for webpage to lad\n",
    "sleep(2)\n",
    "\n",
    "for i in range (10):\n",
    "    driver.execute_script(\"window.scrollTo(0, {screen_height}*{i});\".format(screen_height=screen_height, i=i))\n",
    "    sleep(1)\n",
    "driver.quit()\n"
   ]
  },
  {
   "cell_type": "code",
   "execution_count": null,
   "metadata": {},
   "outputs": [],
   "source": []
  }
 ],
 "metadata": {
  "kernelspec": {
   "display_name": "Python 3",
   "language": "python",
   "name": "python3"
  },
  "language_info": {
   "codemirror_mode": {
    "name": "ipython",
    "version": 3
   },
   "file_extension": ".py",
   "mimetype": "text/x-python",
   "name": "python",
   "nbconvert_exporter": "python",
   "pygments_lexer": "ipython3",
   "version": "3.10.10"
  },
  "orig_nbformat": 4,
  "vscode": {
   "interpreter": {
    "hash": "470d22a4b3e1dc4b142377dc942a81b756182d283d33f2ed7cf9b76084efbf27"
   }
  }
 },
 "nbformat": 4,
 "nbformat_minor": 2
}
