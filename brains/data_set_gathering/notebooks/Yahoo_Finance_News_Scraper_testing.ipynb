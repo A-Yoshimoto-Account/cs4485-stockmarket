{
 "cells": [
  {
   "cell_type": "code",
   "execution_count": 1,
   "metadata": {},
   "outputs": [],
   "source": [
    "import requests, sys, time\n",
    "from datetime import datetime\n",
    "from bs4 import BeautifulSoup\n",
    "import pandas as pd"
   ]
  },
  {
   "cell_type": "code",
   "execution_count": 2,
   "metadata": {},
   "outputs": [],
   "source": [
    "# When a browser makes a request to a website, it passes basic info about the browser.\n",
    "# With this header, we use this same interaction s.t. the scraper looks less like a bot\n",
    "request_headers = {\n",
    "    'accept': '*/*',\n",
    "    'accept-encoding': 'gzip, deflate, br',\n",
    "    'accept-language': 'en-US,en;q=0.9',\n",
    "    'referer': 'https://www.google.com',\n",
    "    'user-agent': 'Mozilla/5.0 (Windows NT 10.0; Win64; x64) AppleWebKit/537.36 (KHTML, like Gecko) Chrome/85.0.4183.83 Safari/537.36 Edg/85.0.564.44'\n",
    "}"
   ]
  },
  {
   "cell_type": "code",
   "execution_count": 3,
   "metadata": {},
   "outputs": [],
   "source": [
    "# From a yahoo finance search, we can pull urls to financial/buisness news on a search term search term\n",
    "def make_search_query(search_term):\n",
    "    url = f'https://finance.yahoo.com/quote/{search_term}?p={search_term}'\n",
    "    \n",
    "    # Make a request and parse the search page\n",
    "    response = requests.get(url, request_headers)\n",
    "    soup = BeautifulSoup(response.content, 'html.parser')\n",
    "    tags = soup.find_all('a', {'class': \"js-content-viewer\"})\n",
    "    \n",
    "    # Extract article links\n",
    "    article_urls = []\n",
    "    for refrence in tags:\n",
    "        article_urls.append(\"https://finance.yahoo.com\" + refrence['href']) \n",
    "\n",
    "    return article_urls"
   ]
  },
  {
   "cell_type": "code",
   "execution_count": 4,
   "metadata": {},
   "outputs": [
    {
     "name": "stdout",
     "output_type": "stream",
     "text": [
      "https://finance.yahoo.com/m/8fed441d-da17-34cc-81e9-a8e5710e1075/microsoft-offers-to-keep.html\n",
      "https://finance.yahoo.com/m/52df9dd5-5bc7-3e62-acc8-af54ae4e61a9/nvidia-stock-fomo-versus.html\n",
      "https://finance.yahoo.com/m/cf71a10a-0828-33c9-99b7-d3b0b2e14bb8/3-things-about-amd-that-smart.html\n",
      "https://finance.yahoo.com/m/c847bcfc-4b03-3ec1-bbdf-d5118606fc35/beyond-the-hype-examining.html\n",
      "https://finance.yahoo.com/m/f3257ab8-25b9-3e95-bf18-1ff471a4c803/3-stocks-that-could-be-worth.html\n",
      "https://finance.yahoo.com/m/753633bd-6faf-3dd1-acae-1d0a720ddb9f/look-beyond-ai-this-42.html\n",
      "https://finance.yahoo.com/m/5ce34a5c-c296-33f4-a379-70567930a6db/nvidia-s-stock-offering-a.html\n",
      "https://finance.yahoo.com/m/c35c3145-db26-3f8c-953e-3e195ec0f295/intel-s-roadmap-changes-a.html\n",
      "https://finance.yahoo.com/m/e55ff48d-9785-34d2-a29b-ceb1ca745495/why-super-micro-computer.html\n",
      "https://finance.yahoo.com/m/684c930d-1475-3adc-b013-ae604c056ebc/artificial-intelligence.html\n"
     ]
    }
   ],
   "source": [
    "search_term = \"NVDA\"\n",
    "article_urls = make_search_query(search_term)\n",
    "for url in article_urls:\n",
    "    print(url)"
   ]
  },
  {
   "cell_type": "code",
   "execution_count": 5,
   "metadata": {},
   "outputs": [],
   "source": [
    "# now that we have urls, we can gather the info we want from each article\n",
    "#  our search results contains 3 types of results:\n",
    "# 1 - videos: videos contain \"video\" in the url, we can reject all videos\n",
    "# 2 - redirects: redericts will take you to a portion of the article and have a link to the full article. \n",
    "#           We will scrape meta data from the yahoo finace page, scrape the real link, and use the real link to scrape the article content\n",
    "# 3 - articles: the article is hosted directly on yahoo finance and no further work is needed\n",
    "def explore_articles(article_urls):\n",
    "    articles = []\n",
    "    for url in article_urls:\n",
    "        try:\n",
    "            if \"video\" in url:\n",
    "                continue\n",
    "\n",
    "            response = requests.get(url, request_headers)\n",
    "            soup = BeautifulSoup(response.content, 'html.parser')\n",
    "            \n",
    "            title = soup.find_all('h1')[1].getText()\n",
    "            publish_date = soup.find('time').get('datetime')\n",
    "            keywords = soup.find('meta', attrs={'name': 'news_keywords'})['content']\n",
    "            \n",
    "            if \"/m/\" in url:\n",
    "                tags = soup.find_all('a', {'class': \"link caas-button\"})\n",
    "                url = tags[0]['href']\n",
    "                response = requests.get(url, request_headers)\n",
    "                soup = BeautifulSoup(response.content, 'html.parser')\n",
    "            paragraphs = soup.find_all('p')\n",
    "            content = ''\n",
    "            for paragraph in paragraphs:\n",
    "                content += paragraph.get_text()\n",
    "                \n",
    "            articles.append({'Title': title, 'Publish Date': publish_date, 'Source': url, 'Keywords':keywords, 'Content': content})\n",
    "        except Exception:\n",
    "            articles.append(f\"Error: {Exception}\")\n",
    "        \n",
    "    return articles"
   ]
  },
  {
   "cell_type": "code",
   "execution_count": 6,
   "metadata": {},
   "outputs": [
    {
     "data": {
      "text/html": [
       "<div>\n",
       "<style scoped>\n",
       "    .dataframe tbody tr th:only-of-type {\n",
       "        vertical-align: middle;\n",
       "    }\n",
       "\n",
       "    .dataframe tbody tr th {\n",
       "        vertical-align: top;\n",
       "    }\n",
       "\n",
       "    .dataframe thead th {\n",
       "        text-align: right;\n",
       "    }\n",
       "</style>\n",
       "<table border=\"1\" class=\"dataframe\">\n",
       "  <thead>\n",
       "    <tr style=\"text-align: right;\">\n",
       "      <th></th>\n",
       "      <th>Title</th>\n",
       "      <th>Publish Date</th>\n",
       "      <th>Source</th>\n",
       "      <th>Keywords</th>\n",
       "      <th>Content</th>\n",
       "    </tr>\n",
       "  </thead>\n",
       "  <tbody>\n",
       "    <tr>\n",
       "      <th>0</th>\n",
       "      <td>Microsoft offers to keep ‘Call of Duty’ on Pla...</td>\n",
       "      <td>2023-03-08T18:00:00.000Z</td>\n",
       "      <td>https://www.marketwatch.com/story/microsoft-of...</td>\n",
       "      <td>Activision Blizzard, Microsoft Corp</td>\n",
       "      <td>Microsoft Corp. proposed a series of licenses ...</td>\n",
       "    </tr>\n",
       "    <tr>\n",
       "      <th>1</th>\n",
       "      <td>Nvidia Stock: FOMO Versus Fundamentals. What S...</td>\n",
       "      <td>2023-03-08T15:15:00.000Z</td>\n",
       "      <td>https://www.fool.com/investing/2023/03/08/nvid...</td>\n",
       "      <td>Nvidia, stock trades</td>\n",
       "      <td>Founded in 1993 by brothers Tom and David Gard...</td>\n",
       "    </tr>\n",
       "    <tr>\n",
       "      <th>2</th>\n",
       "      <td>3 Things About AMD That Smart Investors Know</td>\n",
       "      <td>2023-03-08T15:00:00.000Z</td>\n",
       "      <td>https://www.fool.com/investing/2023/03/08/3-th...</td>\n",
       "      <td>Nvidia, Advanced Micro Devices, Grand View Res...</td>\n",
       "      <td>Founded in 1993 by brothers Tom and David Gard...</td>\n",
       "    </tr>\n",
       "    <tr>\n",
       "      <th>3</th>\n",
       "      <td>Beyond the Hype -- Examining Nvidia's Biggest ...</td>\n",
       "      <td>2023-03-08T11:00:00.000Z</td>\n",
       "      <td>https://www.fool.com/investing/2023/03/08/beyo...</td>\n",
       "      <td>Nvidia, manufacturing partners, semiconductor ...</td>\n",
       "      <td>Founded in 1993 by brothers Tom and David Gard...</td>\n",
       "    </tr>\n",
       "    <tr>\n",
       "      <th>4</th>\n",
       "      <td>3 Stocks That Could Be Worth More Than Tesla b...</td>\n",
       "      <td>2023-03-08T10:50:00.000Z</td>\n",
       "      <td>https://www.fool.com/investing/2023/03/08/stoc...</td>\n",
       "      <td>Tesla, Nvidia, market cap</td>\n",
       "      <td>Founded in 1993 by brothers Tom and David Gard...</td>\n",
       "    </tr>\n",
       "  </tbody>\n",
       "</table>\n",
       "</div>"
      ],
      "text/plain": [
       "                                               Title  \\\n",
       "0  Microsoft offers to keep ‘Call of Duty’ on Pla...   \n",
       "1  Nvidia Stock: FOMO Versus Fundamentals. What S...   \n",
       "2       3 Things About AMD That Smart Investors Know   \n",
       "3  Beyond the Hype -- Examining Nvidia's Biggest ...   \n",
       "4  3 Stocks That Could Be Worth More Than Tesla b...   \n",
       "\n",
       "               Publish Date  \\\n",
       "0  2023-03-08T18:00:00.000Z   \n",
       "1  2023-03-08T15:15:00.000Z   \n",
       "2  2023-03-08T15:00:00.000Z   \n",
       "3  2023-03-08T11:00:00.000Z   \n",
       "4  2023-03-08T10:50:00.000Z   \n",
       "\n",
       "                                              Source  \\\n",
       "0  https://www.marketwatch.com/story/microsoft-of...   \n",
       "1  https://www.fool.com/investing/2023/03/08/nvid...   \n",
       "2  https://www.fool.com/investing/2023/03/08/3-th...   \n",
       "3  https://www.fool.com/investing/2023/03/08/beyo...   \n",
       "4  https://www.fool.com/investing/2023/03/08/stoc...   \n",
       "\n",
       "                                            Keywords  \\\n",
       "0                Activision Blizzard, Microsoft Corp   \n",
       "1                               Nvidia, stock trades   \n",
       "2  Nvidia, Advanced Micro Devices, Grand View Res...   \n",
       "3  Nvidia, manufacturing partners, semiconductor ...   \n",
       "4                          Tesla, Nvidia, market cap   \n",
       "\n",
       "                                             Content  \n",
       "0  Microsoft Corp. proposed a series of licenses ...  \n",
       "1  Founded in 1993 by brothers Tom and David Gard...  \n",
       "2  Founded in 1993 by brothers Tom and David Gard...  \n",
       "3  Founded in 1993 by brothers Tom and David Gard...  \n",
       "4  Founded in 1993 by brothers Tom and David Gard...  "
      ]
     },
     "execution_count": 6,
     "metadata": {},
     "output_type": "execute_result"
    }
   ],
   "source": [
    "articles = explore_articles(article_urls)\n",
    "timestamp = datetime.now().strftime(\"%Y-%m-%d_%H-%M-%S\")\n",
    "df = pd.DataFrame(articles)\n",
    "df.to_csv(f'results_{search_term}_{timestamp}.csv', index=False)\n",
    "df.head()"
   ]
  }
 ],
 "metadata": {
  "kernelspec": {
   "display_name": "Python 3",
   "language": "python",
   "name": "python3"
  },
  "language_info": {
   "codemirror_mode": {
    "name": "ipython",
    "version": 3
   },
   "file_extension": ".py",
   "mimetype": "text/x-python",
   "name": "python",
   "nbconvert_exporter": "python",
   "pygments_lexer": "ipython3",
   "version": "3.11.1"
  },
  "orig_nbformat": 4,
  "vscode": {
   "interpreter": {
    "hash": "bf76441dbe4afb6b39d8d92fd21c31e10267c5fc21ab228f33891a3330b4175d"
   }
  }
 },
 "nbformat": 4,
 "nbformat_minor": 2
}
