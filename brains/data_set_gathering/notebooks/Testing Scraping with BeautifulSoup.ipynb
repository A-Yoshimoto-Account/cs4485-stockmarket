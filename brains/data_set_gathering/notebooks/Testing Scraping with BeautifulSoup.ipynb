{
 "cells": [
  {
   "cell_type": "code",
   "execution_count": 1,
   "metadata": {},
   "outputs": [],
   "source": [
    "import requests, sys, time\n",
    "from datetime import datetime\n",
    "from bs4 import BeautifulSoup\n",
    "import pandas as pd"
   ]
  },
  {
   "cell_type": "code",
   "execution_count": 2,
   "metadata": {},
   "outputs": [],
   "source": [
    "# When a browser makes a request to a website, it passes basic info about the browser.\n",
    "# With this header, we use this same interaction s.t. the scraper looks less like a bot\n",
    "request_headers = {\n",
    "    'accept': '*/*',\n",
    "    'accept-encoding': 'gzip, deflate, br',\n",
    "    'accept-language': 'en-US,en;q=0.9',\n",
    "    'referer': 'https://www.google.com',\n",
    "    'user-agent': 'Mozilla/5.0 (Windows NT 10.0; Win64; x64) AppleWebKit/537.36 (KHTML, like Gecko) Chrome/85.0.4183.83 Safari/537.36 Edg/85.0.564.44'\n",
    "}"
   ]
  },
  {
   "cell_type": "code",
   "execution_count": 3,
   "metadata": {},
   "outputs": [],
   "source": [
    "# From a yahoo finance search, we can pull urls to financial/buisness news on a search term search term\n",
    "def make_search_query(search_term):\n",
    "    url = f'https://finance.yahoo.com/quote/{search_term}?p={search_term}'\n",
    "    \n",
    "    # Make a request and parse the search page\n",
    "    response = requests.get(url, request_headers)\n",
    "    soup = BeautifulSoup(response.content, 'html.parser')\n",
    "    tags = soup.find_all('a', {'class': \"js-content-viewer\"})\n",
    "    \n",
    "    # Extract article links\n",
    "    article_urls = []\n",
    "    for refrence in tags:\n",
    "        article_urls.append(\"https://finance.yahoo.com\" + refrence['href']) \n",
    "\n",
    "    return article_urls"
   ]
  },
  {
   "cell_type": "code",
   "execution_count": 4,
   "metadata": {},
   "outputs": [
    {
     "name": "stdout",
     "output_type": "stream",
     "text": [
      "https://finance.yahoo.com/video/stocks-trade-higher-open-investors-134201927.html\n",
      "https://finance.yahoo.com/video/nvidia-ceo-jensen-huang-weighs-214045339.html\n",
      "https://finance.yahoo.com/video/nvidia-ceo-breaks-down-omniverse-212732853.html\n",
      "https://finance.yahoo.com/video/today-top-headlines-fed-raises-210523344.html\n",
      "https://finance.yahoo.com/video/nvidia-ai-omniverse-channels-help-210316770.html\n",
      "https://finance.yahoo.com/m/26c770ad-a814-3731-b9d1-5c660c3fc239/how-to-invest-nvidia-tesla.html\n",
      "https://finance.yahoo.com/m/168e6916-f6d5-3fca-8fd3-9d179217d985/top-10-s-p-500-stocks-by.html\n",
      "https://finance.yahoo.com/m/e46279a8-4a3a-310d-b1e9-86d9a7ac606e/nvidia-stock-scores.html\n",
      "https://finance.yahoo.com/news/medtronic-mdt-enhance-ai-innovation-164804636.html\n",
      "https://finance.yahoo.com/m/4ef47c48-f44e-3bbf-ab60-6d03f021c62e/nvidia-stock-option-trade.html\n",
      "https://finance.yahoo.com/m/63578db3-6ebd-3b47-8955-da66f41abda5/dow-jones-rises-300-points.html\n",
      "https://finance.yahoo.com/m/0c868bdc-3fae-3855-922c-2c6210fe6bda/nvidia-stock-unleashing.html\n"
     ]
    }
   ],
   "source": [
    "search_term = \"NVDA\"\n",
    "article_urls = make_search_query(search_term)\n",
    "for url in article_urls:\n",
    "    print(url)"
   ]
  },
  {
   "cell_type": "code",
   "execution_count": 5,
   "metadata": {},
   "outputs": [],
   "source": [
    "# now that we have urls, we can gather the info we want from each article\n",
    "#  our search results contains 3 types of results:\n",
    "# 1 - videos: videos contain \"video\" in the url, we can reject all videos\n",
    "# 2 - redirects: redericts will take you to a portion of the article and have a link to the full article. \n",
    "#           We will scrape meta data from the yahoo finace page, scrape the real link, and use the real link to scrape the article content\n",
    "# 3 - articles: the article is hosted directly on yahoo finance and no further work is needed\n",
    "def explore_articles(article_urls):\n",
    "    articles = []\n",
    "    for url in article_urls:\n",
    "        try:\n",
    "            if \"video\" in url:\n",
    "                continue\n",
    "\n",
    "            response = requests.get(url, request_headers)\n",
    "            soup = BeautifulSoup(response.content, 'html.parser')\n",
    "            \n",
    "            title = soup.find_all('h1')[1].getText()\n",
    "            publish_date = soup.find('time').get('datetime')\n",
    "            keywords = soup.find('meta', attrs={'name': 'news_keywords'})['content']\n",
    "            \n",
    "            if \"/m/\" in url:\n",
    "                tags = soup.find_all('a', {'class': \"link caas-button\"})\n",
    "                url = tags[0]['href']\n",
    "                response = requests.get(url, request_headers)\n",
    "                soup = BeautifulSoup(response.content, 'html.parser')\n",
    "            paragraphs = soup.find_all('p')\n",
    "            content = ''\n",
    "            for paragraph in paragraphs:\n",
    "                content += paragraph.get_text()\n",
    "                \n",
    "            articles.append({'Title': title, 'Publish Date': publish_date, 'Source': url, 'Keywords':keywords, 'Content': content})\n",
    "        except Exception:\n",
    "            articles.append(f\"Error: {Exception}\")\n",
    "        \n",
    "    return articles"
   ]
  },
  {
   "cell_type": "code",
   "execution_count": 6,
   "metadata": {},
   "outputs": [
    {
     "data": {
      "text/html": [
       "<div>\n",
       "<style scoped>\n",
       "    .dataframe tbody tr th:only-of-type {\n",
       "        vertical-align: middle;\n",
       "    }\n",
       "\n",
       "    .dataframe tbody tr th {\n",
       "        vertical-align: top;\n",
       "    }\n",
       "\n",
       "    .dataframe thead th {\n",
       "        text-align: right;\n",
       "    }\n",
       "</style>\n",
       "<table border=\"1\" class=\"dataframe\">\n",
       "  <thead>\n",
       "    <tr style=\"text-align: right;\">\n",
       "      <th></th>\n",
       "      <th>Title</th>\n",
       "      <th>Publish Date</th>\n",
       "      <th>Source</th>\n",
       "      <th>Keywords</th>\n",
       "      <th>Content</th>\n",
       "    </tr>\n",
       "  </thead>\n",
       "  <tbody>\n",
       "    <tr>\n",
       "      <th>0</th>\n",
       "      <td>How To Invest: Nvidia, Tesla Reveal 3-Step Rou...</td>\n",
       "      <td>2023-03-23T19:07:14.000Z</td>\n",
       "      <td>https://www.investors.com/how-to-invest/invest...</td>\n",
       "      <td>tech stocks, growth stocks, stock market, stoc...</td>\n",
       "      <td>\\n                Access to this page has been...</td>\n",
       "    </tr>\n",
       "    <tr>\n",
       "      <th>1</th>\n",
       "      <td>Top 10 S&amp;P 500 Stocks by Index Weight</td>\n",
       "      <td>2023-03-23T19:23:39.000Z</td>\n",
       "      <td>https://www.investopedia.com/top-10-s-and-p-50...</td>\n",
       "      <td>Index Weighting, market cap, net income, Stand...</td>\n",
       "      <td>\\nSee which stocks fell in the rankings, and w...</td>\n",
       "    </tr>\n",
       "    <tr>\n",
       "      <th>2</th>\n",
       "      <td>Nvidia Stock Scores Successful Breakout Amid I...</td>\n",
       "      <td>2023-03-23T17:59:02.000Z</td>\n",
       "      <td>https://www.investors.com/news/nvidia-stock-20...</td>\n",
       "      <td>Nvidia Stock, Nvidia, NVDA stock, artificial i...</td>\n",
       "      <td>\\n                Access to this page has been...</td>\n",
       "    </tr>\n",
       "    <tr>\n",
       "      <th>3</th>\n",
       "      <td>Medtronic (MDT) to Enhance AI Innovation With ...</td>\n",
       "      <td>2023-03-23T16:48:04.000Z</td>\n",
       "      <td>https://finance.yahoo.com/news/medtronic-mdt-e...</td>\n",
       "      <td>Medtronic, Zacks Investment Research, GI Geniu...</td>\n",
       "      <td>Detailed updates on the high-stakes House Ener...</td>\n",
       "    </tr>\n",
       "    <tr>\n",
       "      <th>4</th>\n",
       "      <td>Nvidia Stock Option Trade Benefits From Neutra...</td>\n",
       "      <td>2023-03-23T15:17:00.000Z</td>\n",
       "      <td>https://www.investors.com/research/options/nvi...</td>\n",
       "      <td>Nvidia, calendar spread, implied volatility, c...</td>\n",
       "      <td>\\n                Access to this page has been...</td>\n",
       "    </tr>\n",
       "  </tbody>\n",
       "</table>\n",
       "</div>"
      ],
      "text/plain": [
       "                                               Title  \\\n",
       "0  How To Invest: Nvidia, Tesla Reveal 3-Step Rou...   \n",
       "1              Top 10 S&P 500 Stocks by Index Weight   \n",
       "2  Nvidia Stock Scores Successful Breakout Amid I...   \n",
       "3  Medtronic (MDT) to Enhance AI Innovation With ...   \n",
       "4  Nvidia Stock Option Trade Benefits From Neutra...   \n",
       "\n",
       "               Publish Date  \\\n",
       "0  2023-03-23T19:07:14.000Z   \n",
       "1  2023-03-23T19:23:39.000Z   \n",
       "2  2023-03-23T17:59:02.000Z   \n",
       "3  2023-03-23T16:48:04.000Z   \n",
       "4  2023-03-23T15:17:00.000Z   \n",
       "\n",
       "                                              Source  \\\n",
       "0  https://www.investors.com/how-to-invest/invest...   \n",
       "1  https://www.investopedia.com/top-10-s-and-p-50...   \n",
       "2  https://www.investors.com/news/nvidia-stock-20...   \n",
       "3  https://finance.yahoo.com/news/medtronic-mdt-e...   \n",
       "4  https://www.investors.com/research/options/nvi...   \n",
       "\n",
       "                                            Keywords  \\\n",
       "0  tech stocks, growth stocks, stock market, stoc...   \n",
       "1  Index Weighting, market cap, net income, Stand...   \n",
       "2  Nvidia Stock, Nvidia, NVDA stock, artificial i...   \n",
       "3  Medtronic, Zacks Investment Research, GI Geniu...   \n",
       "4  Nvidia, calendar spread, implied volatility, c...   \n",
       "\n",
       "                                             Content  \n",
       "0  \\n                Access to this page has been...  \n",
       "1  \\nSee which stocks fell in the rankings, and w...  \n",
       "2  \\n                Access to this page has been...  \n",
       "3  Detailed updates on the high-stakes House Ener...  \n",
       "4  \\n                Access to this page has been...  "
      ]
     },
     "execution_count": 6,
     "metadata": {},
     "output_type": "execute_result"
    }
   ],
   "source": [
    "articles = explore_articles(article_urls)\n",
    "timestamp = datetime.now().strftime(\"%Y-%m-%d_%H-%M-%S\")\n",
    "df = pd.DataFrame(articles)\n",
    "df.to_csv(f'results_{search_term}_{timestamp}.csv', index=False)\n",
    "df.head()"
   ]
  }
 ],
 "metadata": {
  "kernelspec": {
   "display_name": "Python 3",
   "language": "python",
   "name": "python3"
  },
  "language_info": {
   "codemirror_mode": {
    "name": "ipython",
    "version": 3
   },
   "file_extension": ".py",
   "mimetype": "text/x-python",
   "name": "python",
   "nbconvert_exporter": "python",
   "pygments_lexer": "ipython3",
   "version": "3.10.10"
  },
  "orig_nbformat": 4,
  "vscode": {
   "interpreter": {
    "hash": "bf76441dbe4afb6b39d8d92fd21c31e10267c5fc21ab228f33891a3330b4175d"
   }
  }
 },
 "nbformat": 4,
 "nbformat_minor": 2
}
