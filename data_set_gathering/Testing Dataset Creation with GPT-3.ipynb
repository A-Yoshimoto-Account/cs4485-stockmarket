{
 "cells": [
  {
   "cell_type": "code",
   "execution_count": 12,
   "id": "bc2fdb5d",
   "metadata": {},
   "outputs": [],
   "source": [
    "import os\n",
    "import openai\n",
    "from dotenv import load_dotenv\n",
    "import pandas as pd\n",
    "import time"
   ]
  },
  {
   "cell_type": "code",
   "execution_count": 13,
   "id": "21f1e209",
   "metadata": {},
   "outputs": [],
   "source": [
    "load_dotenv()\n",
    "openai.api_key = os.getenv('OPENAI_API_KEY')"
   ]
  },
  {
   "cell_type": "code",
   "execution_count": 38,
   "id": "a5b5b493",
   "metadata": {},
   "outputs": [],
   "source": [
    "# wrapper for rate limit exponential delay\n",
    "def ratelimiterror_exponential_backoff(\n",
    "    func,\n",
    "    init_delay=60,\n",
    "    expo_base=2,\n",
    "    errors=(openai.error.RateLimitError),\n",
    "    max_retries=5\n",
    "):\n",
    "    def wrapper(*args, **kwargs):\n",
    "        retries = 0\n",
    "        delay = init_delay\n",
    "        while True:\n",
    "            try:\n",
    "                return func(*args, **kwargs)\n",
    "            except errors as e:\n",
    "                retries += 1\n",
    "                if retries > max_retries:\n",
    "                    raise Exception(f'Exceeded maximum number of retries ({max_retries})')\n",
    "                    \n",
    "                print(f'RateLimitError: Sleeping for {delay} seconds')\n",
    "                time.sleep(delay)\n",
    "                delay *= expo_base\n",
    "                print(f'Next error wait time is {delay} seconds. {max_retries - retries} retries remaining')\n",
    "                \n",
    "                \n",
    "            except Exception as e:\n",
    "                raise e\n",
    "    return wrapper\n",
    "\n",
    "'''\n",
    "Uses a GPT-3 model to:\n",
    "- generate questions based on the articles\n",
    "- generate answers to the generated questions given the articles\n",
    "- construct a dataset that contains the articles and questions as prompts,\n",
    "\tand the answers as completions\n",
    "\n",
    "'''\n",
    "\n",
    "def get_trimmed_articles(df):\n",
    "\tdef split_article(title, date, timeout, content):\n",
    "\t\tif timeout:\n",
    "\t\t\treturn None\n",
    "\t\theader = f'{title}\\n{date}\\n'\n",
    "\t\tprompts = []\n",
    "\t\tdivs = len(content) // 4000\n",
    "\t\tfor _ in range(divs):\n",
    "\t\t\tdiv = ''\n",
    "\t\t\twhile len(div) < 4000:\n",
    "\t\t\t\tnewline_index = content.find('\\n')\n",
    "\t\t\t\tcut = content[:newline_index]\n",
    "\t\t\t\tdiv += cut + '\\n'\n",
    "\t\t\t\tcontent = content[newline_index + 1:]\n",
    "\t\t\t\n",
    "\t\t\tprompts.append(header + div)\n",
    "\t\tprompts.append(header + content)\n",
    "\t\treturn pd.Series(prompts)\n",
    "\t\n",
    "\tresp = articles.apply(lambda row: split_article(row['title'], row['date_published'], row['timeout'], row['content']), axis=1)\n",
    "\treturn resp.melt(value_name='content').drop('variable', axis=1).dropna()\n",
    "\n",
    "@ratelimiterror_exponential_backoff\n",
    "def generate_questions(prompt):\n",
    "    wait_time = 3.5\n",
    "    response = openai.Completion.create(\n",
    "        model='text-davinci-003',\n",
    "        prompt=f'Write three questions based on the article below\\nArticle: {prompt}\\nQuestions:\\n1.',\n",
    "        presence_penalty=0.5,\n",
    "        frequency_penalty=0.5,\n",
    "        temperature=1,\n",
    "        top_p=1,\n",
    "        max_tokens=750,\n",
    "        stop=['\\n\\n']\n",
    "    )\n",
    "    time.sleep(wait_time)\n",
    "    questions = '1.' + response['choices'][0]['text']\n",
    "    return questions\n",
    "\n",
    "@ratelimiterror_exponential_backoff\n",
    "def generate_answers(context, questions):\n",
    "    wait_time = 3.5\n",
    "    response = openai.Completion.create(\n",
    "        model='text-davinci-003',\n",
    "        prompt=f'Write answers to the questions based on the article below\\nQuestions:\\n{questions}\\n\\nArticle: {context}\\n\\nAnswers:\\n1.',\n",
    "        presence_penalty=0.5,\n",
    "        frequency_penalty=0.5,\n",
    "        temperature=1,\n",
    "        top_p=1,\n",
    "        max_tokens=750,\n",
    "    )\n",
    "    time.sleep(wait_time)\n",
    "    answers = '1.' + response['choices'][0]['text']\n",
    "    return answers\n",
    "\n",
    "def generate_ft_prompt(context, questions):\n",
    "    return f'{questions}\\n\\nArticle: {context}\\n\\n###\\n\\n'\n",
    "def generate_ft_completion(answer):\n",
    "    return f' {answer}\\n==++==\\n'\n"
   ]
  },
  {
   "cell_type": "code",
   "execution_count": 15,
   "id": "e74e2199",
   "metadata": {},
   "outputs": [],
   "source": [
    "articles = pd.read_excel('sample_fine_tune.xlsx')"
   ]
  },
  {
   "cell_type": "code",
   "execution_count": 16,
   "id": "65c016a6",
   "metadata": {},
   "outputs": [],
   "source": [
    "dataset = get_trimmed_articles(articles)"
   ]
  },
  {
   "cell_type": "code",
   "execution_count": 17,
   "id": "016aa5e1",
   "metadata": {},
   "outputs": [
    {
     "data": {
      "text/html": [
       "<div>\n",
       "<style scoped>\n",
       "    .dataframe tbody tr th:only-of-type {\n",
       "        vertical-align: middle;\n",
       "    }\n",
       "\n",
       "    .dataframe tbody tr th {\n",
       "        vertical-align: top;\n",
       "    }\n",
       "\n",
       "    .dataframe thead th {\n",
       "        text-align: right;\n",
       "    }\n",
       "</style>\n",
       "<table border=\"1\" class=\"dataframe\">\n",
       "  <thead>\n",
       "    <tr style=\"text-align: right;\">\n",
       "      <th></th>\n",
       "      <th>content</th>\n",
       "    </tr>\n",
       "  </thead>\n",
       "  <tbody>\n",
       "    <tr>\n",
       "      <th>0</th>\n",
       "      <td>Samsung Galaxy Book 3 Ultra hands-on: NVIDIA R...</td>\n",
       "    </tr>\n",
       "    <tr>\n",
       "      <th>1</th>\n",
       "      <td>US, Netherlands and Japan reportedly agree to ...</td>\n",
       "    </tr>\n",
       "    <tr>\n",
       "      <th>2</th>\n",
       "      <td>Nvidia CEO says AI will need regulation, socia...</td>\n",
       "    </tr>\n",
       "    <tr>\n",
       "      <th>3</th>\n",
       "      <td>Sweden to upgrade Berzelius supercomputer with...</td>\n",
       "    </tr>\n",
       "    <tr>\n",
       "      <th>4</th>\n",
       "      <td>ChatGPT's massive hype has made these 5 artifi...</td>\n",
       "    </tr>\n",
       "    <tr>\n",
       "      <th>...</th>\n",
       "      <td>...</td>\n",
       "    </tr>\n",
       "    <tr>\n",
       "      <th>544</th>\n",
       "      <td>How Nvidia’s CUDA Monopoly in Machine Learning...</td>\n",
       "    </tr>\n",
       "    <tr>\n",
       "      <th>570</th>\n",
       "      <td>GPUs for Deep Learning in 2023 – An In-depth A...</td>\n",
       "    </tr>\n",
       "    <tr>\n",
       "      <th>670</th>\n",
       "      <td>GPUs for Deep Learning in 2023 – An In-depth A...</td>\n",
       "    </tr>\n",
       "    <tr>\n",
       "      <th>770</th>\n",
       "      <td>GPUs for Deep Learning in 2023 – An In-depth A...</td>\n",
       "    </tr>\n",
       "    <tr>\n",
       "      <th>870</th>\n",
       "      <td>GPUs for Deep Learning in 2023 – An In-depth A...</td>\n",
       "    </tr>\n",
       "  </tbody>\n",
       "</table>\n",
       "<p>156 rows × 1 columns</p>\n",
       "</div>"
      ],
      "text/plain": [
       "                                               content\n",
       "0    Samsung Galaxy Book 3 Ultra hands-on: NVIDIA R...\n",
       "1    US, Netherlands and Japan reportedly agree to ...\n",
       "2    Nvidia CEO says AI will need regulation, socia...\n",
       "3    Sweden to upgrade Berzelius supercomputer with...\n",
       "4    ChatGPT's massive hype has made these 5 artifi...\n",
       "..                                                 ...\n",
       "544  How Nvidia’s CUDA Monopoly in Machine Learning...\n",
       "570  GPUs for Deep Learning in 2023 – An In-depth A...\n",
       "670  GPUs for Deep Learning in 2023 – An In-depth A...\n",
       "770  GPUs for Deep Learning in 2023 – An In-depth A...\n",
       "870  GPUs for Deep Learning in 2023 – An In-depth A...\n",
       "\n",
       "[156 rows x 1 columns]"
      ]
     },
     "execution_count": 17,
     "metadata": {},
     "output_type": "execute_result"
    }
   ],
   "source": [
    "dataset"
   ]
  },
  {
   "cell_type": "code",
   "execution_count": 18,
   "id": "e3072ba6",
   "metadata": {},
   "outputs": [],
   "source": [
    "dataset['questions'] = dataset['content'].apply(generate_questions)"
   ]
  },
  {
   "cell_type": "code",
   "execution_count": 19,
   "id": "380bc27b",
   "metadata": {
    "scrolled": true
   },
   "outputs": [
    {
     "data": {
      "text/plain": [
       "0      1. What Intel processors are used in the Samsu...\n",
       "1      1. What domestic chip industry is the Biden Ad...\n",
       "2      1. What are the legal and social regulations t...\n",
       "3      1. What is the purpose of the upgraded Berzeli...\n",
       "4      1. How has OpenAI's investment from Microsoft ...\n",
       "                             ...                        \n",
       "544    1. What are the core components of OpenAI's Tr...\n",
       "570    1. What benefits does the BrainFloat 16 format...\n",
       "670    1. What kind of solution does power limiting p...\n",
       "770    1. How does the Tensor Memory Accelerator (TMA...\n",
       "870    1. What is the RTX 4070 Ti best suited for?\\n2...\n",
       "Name: questions, Length: 156, dtype: object"
      ]
     },
     "execution_count": 19,
     "metadata": {},
     "output_type": "execute_result"
    }
   ],
   "source": [
    "dataset['questions']"
   ]
  },
  {
   "cell_type": "code",
   "execution_count": 20,
   "id": "bf7f1d3d",
   "metadata": {},
   "outputs": [
    {
     "data": {
      "text/plain": [
       "'1. What Intel processors are used in the Samsung Galaxy Book 3 line? \\n2. What features does the Galaxy Book 3 Ultra offer that other laptops in its class do not? \\n3. How much does the Samsung Galaxy Book 3 Ultra cost?'"
      ]
     },
     "execution_count": 20,
     "metadata": {},
     "output_type": "execute_result"
    }
   ],
   "source": [
    "dataset['questions'].iloc[0]"
   ]
  },
  {
   "cell_type": "code",
   "execution_count": 21,
   "id": "9aa2ab3f",
   "metadata": {},
   "outputs": [],
   "source": [
    "dataset['answers'] = dataset.apply(lambda row: generate_answers(row['content'], row['questions']), axis=1)"
   ]
  },
  {
   "cell_type": "code",
   "execution_count": 22,
   "id": "06194b45",
   "metadata": {},
   "outputs": [
    {
     "data": {
      "text/plain": [
       "0      1. The Galaxy Book 3 line is powered by 13th-g...\n",
       "1      1. The Biden Administration is attempting to f...\n",
       "2      1. Legal regulations and social norms that nee...\n",
       "3      1. The purpose of the upgraded Berzelius super...\n",
       "4      1. OpenAI's investment from Microsoft has cont...\n",
       "                             ...                        \n",
       "544    1. The core components of OpenAI's Triton are ...\n",
       "570    1. The BrainFloat 16 format (BF16) provides gr...\n",
       "670    1. Power limiting provides a solution for effi...\n",
       "770    1. The Tensor Memory Accelerator (TMA) helps o...\n",
       "870    1. The RTX 4070 Ti is best suited for 8-bit an...\n",
       "Name: answers, Length: 156, dtype: object"
      ]
     },
     "execution_count": 22,
     "metadata": {},
     "output_type": "execute_result"
    }
   ],
   "source": [
    "dataset['answers']"
   ]
  },
  {
   "cell_type": "code",
   "execution_count": 23,
   "id": "3320e86e",
   "metadata": {},
   "outputs": [
    {
     "data": {
      "text/plain": [
       "'1. The Galaxy Book 3 line is powered by 13th-gen Intel Core i5 or i7 processors. \\n2. The Galaxy Book 3 Ultra offers NVIDIA RTX 4050 and 4070 graphics cards, 16GB of DDR5 RAM in the i7 model and 32GB in the i9 configuration, a 400 nit 3K Dynamic AMOLED screen running at 120Hz, dual Thunderbolt 4 USB-C sockets, a USB-A slot, a 3.5mm audio jack, PC-smartphone connectivity tools like Recent Websites and Instant Hotspot via Microsoft’s Phone Link, Multi Control support for Galaxy smartphones. \\n3. The Samsung Galaxy Book 3 Ultra costs $2,400.'"
      ]
     },
     "execution_count": 23,
     "metadata": {},
     "output_type": "execute_result"
    }
   ],
   "source": [
    "dataset['answers'].iloc[0]"
   ]
  },
  {
   "cell_type": "code",
   "execution_count": 39,
   "id": "21af01af",
   "metadata": {},
   "outputs": [],
   "source": [
    "dataset['prompt'] = dataset.apply(lambda row: generate_ft_prompt(row['content'], row['questions']), axis=1)\n",
    "dataset['completion'] = dataset['answers'].apply(generate_ft_completion)"
   ]
  },
  {
   "cell_type": "code",
   "execution_count": 40,
   "id": "7ba2d248",
   "metadata": {
    "scrolled": true
   },
   "outputs": [
    {
     "data": {
      "text/plain": [
       "0      1. What Intel processors are used in the Samsu...\n",
       "1      1. What domestic chip industry is the Biden Ad...\n",
       "2      1. What are the legal and social regulations t...\n",
       "3      1. What is the purpose of the upgraded Berzeli...\n",
       "4      1. How has OpenAI's investment from Microsoft ...\n",
       "                             ...                        \n",
       "544    1. What are the core components of OpenAI's Tr...\n",
       "570    1. What benefits does the BrainFloat 16 format...\n",
       "670    1. What kind of solution does power limiting p...\n",
       "770    1. How does the Tensor Memory Accelerator (TMA...\n",
       "870    1. What is the RTX 4070 Ti best suited for?\\n2...\n",
       "Name: prompt, Length: 156, dtype: object"
      ]
     },
     "execution_count": 40,
     "metadata": {},
     "output_type": "execute_result"
    }
   ],
   "source": [
    "dataset['prompt']"
   ]
  },
  {
   "cell_type": "code",
   "execution_count": 41,
   "id": "9f999fbf",
   "metadata": {},
   "outputs": [
    {
     "data": {
      "text/plain": [
       "\"1. What Intel processors are used in the Samsung Galaxy Book 3 line? \\n2. What features does the Galaxy Book 3 Ultra offer that other laptops in its class do not? \\n3. How much does the Samsung Galaxy Book 3 Ultra cost?\\n\\nArticle: Samsung Galaxy Book 3 Ultra hands-on: NVIDIA RTX 4070 power in a super slim frame\\n2023-02-01T18:00:29Z\\nSamsung is ready to take its Ultra branding to the final frontier — at least, as far as its mobile products go. After introducing an Ultra variant of its tablets last year, the company is launching a similarly high-specced model of its Galaxy Book laptops in 2023. Alongside the new S23 series of flagship phones, Samsung launched the Galaxy Book 3 Pro, Galaxy Book 3 Pro 360 and Galaxy Book 3 Ultra at its Unpacked event in San Francisco today.\\n\\nThe Ultra and the Pro 360 are only available in 16 inches, while the clamshell Galaxy Book 3 Pro comes in 14- and 16-inch sizes. I was able to check out a few of them at a recent hands-on event, though Samsung didn’t have every single model available. Rather than detail every configuration, I’m going to focus on my impressions of the Book 3 Ultra here. For the complete breakdown of the six other laptops, check out our news post for the full specs.\\n\\nIn general, the Galaxy Book 3 lineup is pretty straightforward. They’re powered by 13th-gen Intel Core i5 or i7 processors, with Iris X graphics and up to 32GB of DDR5 RAM. The Pro 360 is the only touch-enabled model, and Samsung has redesigned its display to remove a layer in the panel while still supporting touch. All models have 3K Dynamic AMOLED screens that run at 120Hz and can get as bright as 400 nits.\\n\\nThe star of the show, however, is the Galaxy Book 3 Ultra, and it’s a beast of a machine. It uses Intel’s Core i7 and i9 processors, and those are paired with NVIDIA’s RTX 4050 and 4070 graphics cards respectively. The i7 model comes with 16GB of DDR5 RAM while the i9 configuration has 32GB.\\n\\nDespite packing such powerful guts, the Book 3 Ultra is an impressively thin and light laptop, weighing 1.79kg (3.9 pounds) and measuring 16.5mm (0.64 inches) thin. It’s not as light as the LG Gram Style I saw at CES, which is just 1.2kg, but the latter doesn't offer RTX 30 series graphics. Samsung’s laptop also felt more premium and sturdy than the Gram, which might be thanks to its aluminum frame, though I have to say LG’s machines at least have a distinctive style. The Galaxy Books are starting to look boring, with the same MacBook-esque design they’ve come in for years. Like the Galaxy S23 phones, parts of the Book 3 series were built from recycled plastics from discarded fishing nets.\\n\\nThe Book Ultra is heftier than the other Book 3s, but it also offers a generous array of ports including HDMI, microSD, two Thunderbolt 4 USB-C sockets, a USB-A slot and a 3.5mm audio jack. Like most laptops with a 16-inch screen, the Ultra also sports a roomy keyboard and its trackpad is positively enormous. I wish the buttons had a bit more travel, but typing on the Book Ultra was comfortable enough. It’s no ThinkPad, but it’ll do the job.\\n\\nI didn’t get to try out much else on the Galaxy Book 3, since we had a limited amount of time to check out a ton of devices. The few apps I opened, like Notepad and Control Panel, launched quickly, but I can’t say that’s a good measure of performance.\\n\\nI also wish I had been able to check out the 1080p webcam or new features like the updated quad speaker system and PC-smartphone connectivity tools like Recent Websites and Instant Hotspot via Microsoft’s Phone Link. In theory, though, signing into your Samsung account on the Book Ultra and your Galaxy smartphone should allow you to seamlessly move a web page from your phone to your PC. Samsung’s Multi Control now supports Galaxy smartphones so you can use your laptop, tablet and phone with a keyboard and trackpad\\n\\nComputer makers have been building software that makes connecting your phone and PC less of a hassle for years. While tools like this are getting better over time, it’ll be interesting to see just how useful Samsung’s offering will be in the real world. Frankly, the most intriguing thing about the Galaxy Book 3 Ultra is what Samsung has been able to squeeze into such a svelte frame. The Galaxy Book 3 Ultra will be available on February 17th from $2,400, but you should wait till we can get one in for testing to determine how it stacks up against the competition on performance and battery life before dropping your money\\n\\n\\n###\\n\\n\""
      ]
     },
     "execution_count": 41,
     "metadata": {},
     "output_type": "execute_result"
    }
   ],
   "source": [
    "dataset['prompt'].iloc[0]"
   ]
  },
  {
   "cell_type": "code",
   "execution_count": 42,
   "id": "44bcda27",
   "metadata": {},
   "outputs": [
    {
     "data": {
      "text/plain": [
       "0       1. The Galaxy Book 3 line is powered by 13th-...\n",
       "1       1. The Biden Administration is attempting to ...\n",
       "2       1. Legal regulations and social norms that ne...\n",
       "3       1. The purpose of the upgraded Berzelius supe...\n",
       "4       1. OpenAI's investment from Microsoft has con...\n",
       "                             ...                        \n",
       "544     1. The core components of OpenAI's Triton are...\n",
       "570     1. The BrainFloat 16 format (BF16) provides g...\n",
       "670     1. Power limiting provides a solution for eff...\n",
       "770     1. The Tensor Memory Accelerator (TMA) helps ...\n",
       "870     1. The RTX 4070 Ti is best suited for 8-bit a...\n",
       "Name: completion, Length: 156, dtype: object"
      ]
     },
     "execution_count": 42,
     "metadata": {},
     "output_type": "execute_result"
    }
   ],
   "source": [
    "dataset['completion']"
   ]
  },
  {
   "cell_type": "code",
   "execution_count": 43,
   "id": "aedf8e7a",
   "metadata": {},
   "outputs": [
    {
     "data": {
      "text/plain": [
       "' 1. The Galaxy Book 3 line is powered by 13th-gen Intel Core i5 or i7 processors. \\n2. The Galaxy Book 3 Ultra offers NVIDIA RTX 4050 and 4070 graphics cards, 16GB of DDR5 RAM in the i7 model and 32GB in the i9 configuration, a 400 nit 3K Dynamic AMOLED screen running at 120Hz, dual Thunderbolt 4 USB-C sockets, a USB-A slot, a 3.5mm audio jack, PC-smartphone connectivity tools like Recent Websites and Instant Hotspot via Microsoft’s Phone Link, Multi Control support for Galaxy smartphones. \\n3. The Samsung Galaxy Book 3 Ultra costs $2,400.\\n==++==\\n'"
      ]
     },
     "execution_count": 43,
     "metadata": {},
     "output_type": "execute_result"
    }
   ],
   "source": [
    "dataset['completion'].iloc[0]"
   ]
  },
  {
   "cell_type": "code",
   "execution_count": 96,
   "id": "60fbc7c8",
   "metadata": {},
   "outputs": [],
   "source": [
    "dataset.to_csv('qa_ft_dataset_ver1.csv')"
   ]
  },
  {
   "cell_type": "code",
   "execution_count": 127,
   "id": "8c92cf93",
   "metadata": {},
   "outputs": [],
   "source": [
    "dataset[['prompt', 'completion']].to_json('ft_dataset.jsonl', orient='records', lines=True)"
   ]
  },
  {
   "cell_type": "code",
   "execution_count": null,
   "id": "9154d1cf",
   "metadata": {},
   "outputs": [],
   "source": []
  }
 ],
 "metadata": {
  "kernelspec": {
   "display_name": "Python 3 (ipykernel)",
   "language": "python",
   "name": "python3"
  },
  "language_info": {
   "codemirror_mode": {
    "name": "ipython",
    "version": 3
   },
   "file_extension": ".py",
   "mimetype": "text/x-python",
   "name": "python",
   "nbconvert_exporter": "python",
   "pygments_lexer": "ipython3",
   "version": "3.10.9"
  }
 },
 "nbformat": 4,
 "nbformat_minor": 5
}
